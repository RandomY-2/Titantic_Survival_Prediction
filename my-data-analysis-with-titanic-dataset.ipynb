{
 "cells": [
  {
   "cell_type": "markdown",
   "metadata": {
    "_cell_guid": "79c7e3d0-c299-4dcb-8224-4455121ee9b0",
    "_uuid": "d629ff2d2480ee46fbb7e2d37f6b5fab8052498a",
    "collapsed": true,
    "papermill": {
     "duration": 0.060251,
     "end_time": "2020-10-29T13:28:59.614677",
     "exception": false,
     "start_time": "2020-10-29T13:28:59.554426",
     "status": "completed"
    },
    "tags": []
   },
   "source": [
    "# Hello Everyone!\n",
    "this is my first time writing a Kaggle notebook discussing about how I analyze this dataset. \n",
    "\n",
    "So first of all, let's load the datasets and take a look at the training data.\n"
   ]
  },
  {
   "cell_type": "code",
   "execution_count": 1,
   "metadata": {
    "_cell_guid": "b1076dfc-b9ad-4769-8c92-a6c4dae69d19",
    "_uuid": "8f2839f25d086af736a60e9eeb907d3b93b6e0e5",
    "execution": {
     "iopub.execute_input": "2020-10-29T13:28:59.740525Z",
     "iopub.status.busy": "2020-10-29T13:28:59.739605Z",
     "iopub.status.idle": "2020-10-29T13:29:00.920741Z",
     "shell.execute_reply": "2020-10-29T13:29:00.919055Z"
    },
    "papermill": {
     "duration": 1.247553,
     "end_time": "2020-10-29T13:29:00.920900",
     "exception": false,
     "start_time": "2020-10-29T13:28:59.673347",
     "status": "completed"
    },
    "tags": []
   },
   "outputs": [
    {
     "name": "stdout",
     "output_type": "stream",
     "text": [
      "/kaggle/input/titanic/gender_submission.csv\n",
      "/kaggle/input/titanic/test.csv\n",
      "/kaggle/input/titanic/train.csv\n"
     ]
    }
   ],
   "source": [
    "# This Python 3 environment comes with many helpful analytics libraries installed\n",
    "# It is defined by the kaggle/python Docker image: https://github.com/kaggle/docker-python\n",
    "# For example, here's several helpful packages to load\n",
    "\n",
    "import numpy as np\n",
    "import pandas as pd\n",
    "import seaborn as sns\n",
    "sns.set(style='white',context='notebook',palette='muted')\n",
    "import matplotlib.pyplot as plt\n",
    "\n",
    "# Input data files are available in the read-only \"../input/\" directory\n",
    "# For example, running this (by clicking run or pressing Shift+Enter) will list all files under the input directory\n",
    "\n",
    "import os\n",
    "for dirname, _, filenames in os.walk('/kaggle/input'):\n",
    "    for filename in filenames:\n",
    "        print(os.path.join(dirname, filename))\n",
    "\n",
    "# You can write up to 5GB to the current directory (/kaggle/working/) that gets preserved as output when you create a version using \"Save & Run All\" \n",
    "# You can also write temporary files to /kaggle/temp/, but they won't be saved outside of the current session"
   ]
  },
  {
   "cell_type": "code",
   "execution_count": 2,
   "metadata": {
    "execution": {
     "iopub.execute_input": "2020-10-29T13:29:01.043043Z",
     "iopub.status.busy": "2020-10-29T13:29:01.041800Z",
     "iopub.status.idle": "2020-10-29T13:29:01.060702Z",
     "shell.execute_reply": "2020-10-29T13:29:01.059846Z"
    },
    "papermill": {
     "duration": 0.083131,
     "end_time": "2020-10-29T13:29:01.060855",
     "exception": false,
     "start_time": "2020-10-29T13:29:00.977724",
     "status": "completed"
    },
    "tags": []
   },
   "outputs": [],
   "source": [
    "train_data = pd.read_csv('/kaggle/input/titanic/train.csv')\n",
    "test_data = pd.read_csv('/kaggle/input/titanic/test.csv')"
   ]
  },
  {
   "cell_type": "markdown",
   "metadata": {
    "papermill": {
     "duration": 0.057867,
     "end_time": "2020-10-29T13:29:01.175148",
     "exception": false,
     "start_time": "2020-10-29T13:29:01.117281",
     "status": "completed"
    },
    "tags": []
   },
   "source": [
    "# Take a look at out data \n",
    "\n",
    "Before we begin selecting features and building our model, we may want to take a look at our data and check if we have any missing values. Also, it is a wise diecision to visualize different parameters, especially getting a sense of their distributions and other characteristics. So let's begin!"
   ]
  },
  {
   "cell_type": "code",
   "execution_count": 3,
   "metadata": {
    "execution": {
     "iopub.execute_input": "2020-10-29T13:29:01.315186Z",
     "iopub.status.busy": "2020-10-29T13:29:01.314357Z",
     "iopub.status.idle": "2020-10-29T13:29:01.318270Z",
     "shell.execute_reply": "2020-10-29T13:29:01.317623Z"
    },
    "papermill": {
     "duration": 0.085266,
     "end_time": "2020-10-29T13:29:01.318407",
     "exception": false,
     "start_time": "2020-10-29T13:29:01.233141",
     "status": "completed"
    },
    "tags": []
   },
   "outputs": [
    {
     "name": "stdout",
     "output_type": "stream",
     "text": [
      "<class 'pandas.core.frame.DataFrame'>\n",
      "RangeIndex: 891 entries, 0 to 890\n",
      "Data columns (total 12 columns):\n",
      " #   Column       Non-Null Count  Dtype  \n",
      "---  ------       --------------  -----  \n",
      " 0   PassengerId  891 non-null    int64  \n",
      " 1   Survived     891 non-null    int64  \n",
      " 2   Pclass       891 non-null    int64  \n",
      " 3   Name         891 non-null    object \n",
      " 4   Sex          891 non-null    object \n",
      " 5   Age          714 non-null    float64\n",
      " 6   SibSp        891 non-null    int64  \n",
      " 7   Parch        891 non-null    int64  \n",
      " 8   Ticket       891 non-null    object \n",
      " 9   Fare         891 non-null    float64\n",
      " 10  Cabin        204 non-null    object \n",
      " 11  Embarked     889 non-null    object \n",
      "dtypes: float64(2), int64(5), object(5)\n",
      "memory usage: 83.7+ KB\n",
      "None\n"
     ]
    }
   ],
   "source": [
    "print(train_data.info())"
   ]
  },
  {
   "cell_type": "code",
   "execution_count": 4,
   "metadata": {
    "execution": {
     "iopub.execute_input": "2020-10-29T13:29:01.448252Z",
     "iopub.status.busy": "2020-10-29T13:29:01.447142Z",
     "iopub.status.idle": "2020-10-29T13:29:01.452875Z",
     "shell.execute_reply": "2020-10-29T13:29:01.452032Z"
    },
    "papermill": {
     "duration": 0.077638,
     "end_time": "2020-10-29T13:29:01.453059",
     "exception": false,
     "start_time": "2020-10-29T13:29:01.375421",
     "status": "completed"
    },
    "tags": []
   },
   "outputs": [
    {
     "name": "stdout",
     "output_type": "stream",
     "text": [
      "<class 'pandas.core.frame.DataFrame'>\n",
      "RangeIndex: 418 entries, 0 to 417\n",
      "Data columns (total 11 columns):\n",
      " #   Column       Non-Null Count  Dtype  \n",
      "---  ------       --------------  -----  \n",
      " 0   PassengerId  418 non-null    int64  \n",
      " 1   Pclass       418 non-null    int64  \n",
      " 2   Name         418 non-null    object \n",
      " 3   Sex          418 non-null    object \n",
      " 4   Age          332 non-null    float64\n",
      " 5   SibSp        418 non-null    int64  \n",
      " 6   Parch        418 non-null    int64  \n",
      " 7   Ticket       418 non-null    object \n",
      " 8   Fare         417 non-null    float64\n",
      " 9   Cabin        91 non-null     object \n",
      " 10  Embarked     418 non-null    object \n",
      "dtypes: float64(2), int64(4), object(5)\n",
      "memory usage: 36.0+ KB\n",
      "None\n"
     ]
    }
   ],
   "source": [
    "print(test_data.info())"
   ]
  },
  {
   "cell_type": "markdown",
   "metadata": {
    "papermill": {
     "duration": 0.05708,
     "end_time": "2020-10-29T13:29:01.569778",
     "exception": false,
     "start_time": "2020-10-29T13:29:01.512698",
     "status": "completed"
    },
    "tags": []
   },
   "source": [
    "The above shows that in train data, there are 891 rows of passenger information, and in the test data, there are 418 rows of passenger information. Also comparing to the test data, the train data contains one more column of information, which is whether the passenger survived or not. "
   ]
  },
  {
   "cell_type": "code",
   "execution_count": 5,
   "metadata": {
    "execution": {
     "iopub.execute_input": "2020-10-29T13:29:01.706884Z",
     "iopub.status.busy": "2020-10-29T13:29:01.706060Z",
     "iopub.status.idle": "2020-10-29T13:29:01.745145Z",
     "shell.execute_reply": "2020-10-29T13:29:01.744392Z"
    },
    "papermill": {
     "duration": 0.118176,
     "end_time": "2020-10-29T13:29:01.745265",
     "exception": false,
     "start_time": "2020-10-29T13:29:01.627089",
     "status": "completed"
    },
    "tags": []
   },
   "outputs": [
    {
     "data": {
      "text/html": [
       "<div>\n",
       "<style scoped>\n",
       "    .dataframe tbody tr th:only-of-type {\n",
       "        vertical-align: middle;\n",
       "    }\n",
       "\n",
       "    .dataframe tbody tr th {\n",
       "        vertical-align: top;\n",
       "    }\n",
       "\n",
       "    .dataframe thead th {\n",
       "        text-align: right;\n",
       "    }\n",
       "</style>\n",
       "<table border=\"1\" class=\"dataframe\">\n",
       "  <thead>\n",
       "    <tr style=\"text-align: right;\">\n",
       "      <th></th>\n",
       "      <th>PassengerId</th>\n",
       "      <th>Survived</th>\n",
       "      <th>Pclass</th>\n",
       "      <th>Age</th>\n",
       "      <th>SibSp</th>\n",
       "      <th>Parch</th>\n",
       "      <th>Fare</th>\n",
       "    </tr>\n",
       "  </thead>\n",
       "  <tbody>\n",
       "    <tr>\n",
       "      <th>count</th>\n",
       "      <td>1309.000000</td>\n",
       "      <td>891.000000</td>\n",
       "      <td>1309.000000</td>\n",
       "      <td>1046.000000</td>\n",
       "      <td>1309.000000</td>\n",
       "      <td>1309.000000</td>\n",
       "      <td>1308.000000</td>\n",
       "    </tr>\n",
       "    <tr>\n",
       "      <th>mean</th>\n",
       "      <td>655.000000</td>\n",
       "      <td>0.383838</td>\n",
       "      <td>2.294882</td>\n",
       "      <td>29.881138</td>\n",
       "      <td>0.498854</td>\n",
       "      <td>0.385027</td>\n",
       "      <td>33.295479</td>\n",
       "    </tr>\n",
       "    <tr>\n",
       "      <th>std</th>\n",
       "      <td>378.020061</td>\n",
       "      <td>0.486592</td>\n",
       "      <td>0.837836</td>\n",
       "      <td>14.413493</td>\n",
       "      <td>1.041658</td>\n",
       "      <td>0.865560</td>\n",
       "      <td>51.758668</td>\n",
       "    </tr>\n",
       "    <tr>\n",
       "      <th>min</th>\n",
       "      <td>1.000000</td>\n",
       "      <td>0.000000</td>\n",
       "      <td>1.000000</td>\n",
       "      <td>0.170000</td>\n",
       "      <td>0.000000</td>\n",
       "      <td>0.000000</td>\n",
       "      <td>0.000000</td>\n",
       "    </tr>\n",
       "    <tr>\n",
       "      <th>25%</th>\n",
       "      <td>328.000000</td>\n",
       "      <td>0.000000</td>\n",
       "      <td>2.000000</td>\n",
       "      <td>21.000000</td>\n",
       "      <td>0.000000</td>\n",
       "      <td>0.000000</td>\n",
       "      <td>7.895800</td>\n",
       "    </tr>\n",
       "    <tr>\n",
       "      <th>50%</th>\n",
       "      <td>655.000000</td>\n",
       "      <td>0.000000</td>\n",
       "      <td>3.000000</td>\n",
       "      <td>28.000000</td>\n",
       "      <td>0.000000</td>\n",
       "      <td>0.000000</td>\n",
       "      <td>14.454200</td>\n",
       "    </tr>\n",
       "    <tr>\n",
       "      <th>75%</th>\n",
       "      <td>982.000000</td>\n",
       "      <td>1.000000</td>\n",
       "      <td>3.000000</td>\n",
       "      <td>39.000000</td>\n",
       "      <td>1.000000</td>\n",
       "      <td>0.000000</td>\n",
       "      <td>31.275000</td>\n",
       "    </tr>\n",
       "    <tr>\n",
       "      <th>max</th>\n",
       "      <td>1309.000000</td>\n",
       "      <td>1.000000</td>\n",
       "      <td>3.000000</td>\n",
       "      <td>80.000000</td>\n",
       "      <td>8.000000</td>\n",
       "      <td>9.000000</td>\n",
       "      <td>512.329200</td>\n",
       "    </tr>\n",
       "  </tbody>\n",
       "</table>\n",
       "</div>"
      ],
      "text/plain": [
       "       PassengerId    Survived       Pclass          Age        SibSp  \\\n",
       "count  1309.000000  891.000000  1309.000000  1046.000000  1309.000000   \n",
       "mean    655.000000    0.383838     2.294882    29.881138     0.498854   \n",
       "std     378.020061    0.486592     0.837836    14.413493     1.041658   \n",
       "min       1.000000    0.000000     1.000000     0.170000     0.000000   \n",
       "25%     328.000000    0.000000     2.000000    21.000000     0.000000   \n",
       "50%     655.000000    0.000000     3.000000    28.000000     0.000000   \n",
       "75%     982.000000    1.000000     3.000000    39.000000     1.000000   \n",
       "max    1309.000000    1.000000     3.000000    80.000000     8.000000   \n",
       "\n",
       "             Parch         Fare  \n",
       "count  1309.000000  1308.000000  \n",
       "mean      0.385027    33.295479  \n",
       "std       0.865560    51.758668  \n",
       "min       0.000000     0.000000  \n",
       "25%       0.000000     7.895800  \n",
       "50%       0.000000    14.454200  \n",
       "75%       0.000000    31.275000  \n",
       "max       9.000000   512.329200  "
      ]
     },
     "execution_count": 5,
     "metadata": {},
     "output_type": "execute_result"
    }
   ],
   "source": [
    "full_data =train_data.append(test_data, ignore_index=True)\n",
    "full_data.describe()"
   ]
  },
  {
   "cell_type": "code",
   "execution_count": 6,
   "metadata": {
    "execution": {
     "iopub.execute_input": "2020-10-29T13:29:01.881835Z",
     "iopub.status.busy": "2020-10-29T13:29:01.874342Z",
     "iopub.status.idle": "2020-10-29T13:29:01.887557Z",
     "shell.execute_reply": "2020-10-29T13:29:01.886381Z"
    },
    "papermill": {
     "duration": 0.081937,
     "end_time": "2020-10-29T13:29:01.887751",
     "exception": false,
     "start_time": "2020-10-29T13:29:01.805814",
     "status": "completed"
    },
    "tags": []
   },
   "outputs": [
    {
     "name": "stdout",
     "output_type": "stream",
     "text": [
      "<class 'pandas.core.frame.DataFrame'>\n",
      "RangeIndex: 1309 entries, 0 to 1308\n",
      "Data columns (total 12 columns):\n",
      " #   Column       Non-Null Count  Dtype  \n",
      "---  ------       --------------  -----  \n",
      " 0   PassengerId  1309 non-null   int64  \n",
      " 1   Survived     891 non-null    float64\n",
      " 2   Pclass       1309 non-null   int64  \n",
      " 3   Name         1309 non-null   object \n",
      " 4   Sex          1309 non-null   object \n",
      " 5   Age          1046 non-null   float64\n",
      " 6   SibSp        1309 non-null   int64  \n",
      " 7   Parch        1309 non-null   int64  \n",
      " 8   Ticket       1309 non-null   object \n",
      " 9   Fare         1308 non-null   float64\n",
      " 10  Cabin        295 non-null    object \n",
      " 11  Embarked     1307 non-null   object \n",
      "dtypes: float64(3), int64(4), object(5)\n",
      "memory usage: 122.8+ KB\n"
     ]
    }
   ],
   "source": [
    "full_data.info()"
   ]
  },
  {
   "cell_type": "markdown",
   "metadata": {
    "papermill": {
     "duration": 0.059759,
     "end_time": "2020-10-29T13:29:02.006952",
     "exception": false,
     "start_time": "2020-10-29T13:29:01.947193",
     "status": "completed"
    },
    "tags": []
   },
   "source": [
    "So we can see that among all data, there are missing values in **Age**, **Fare**, **Cabin**, and **Embarked** categories. In fact for **Cabin** category, there are only 295 rows containing information out of the 1309 total rows. These should be something we keep in mind while doing our analysis. "
   ]
  },
  {
   "cell_type": "markdown",
   "metadata": {
    "papermill": {
     "duration": 0.058481,
     "end_time": "2020-10-29T13:29:02.125373",
     "exception": false,
     "start_time": "2020-10-29T13:29:02.066892",
     "status": "completed"
    },
    "tags": []
   },
   "source": [
    "# Visualization of Data\n",
    "\n"
   ]
  },
  {
   "cell_type": "markdown",
   "metadata": {
    "papermill": {
     "duration": 0.072216,
     "end_time": "2020-10-29T13:29:02.257322",
     "exception": false,
     "start_time": "2020-10-29T13:29:02.185106",
     "status": "completed"
    },
    "tags": []
   },
   "source": [
    "**1. Univariate Analysis for Survived Parameter:**\n",
    "\n",
    "The category that we are interested in this dataset is 'Survived'. Thus we may want to first visualize what is the distribution of this column. Because \"Survived\" is a categorical variable and is consisted of 0 and 1. I used a seaborn countplot to visualize it. Count plots show the counts of observations in each categorical bin using bars and can be essentially treated as a histogram for a categorical variable. \n",
    "\n",
    "From the graph, it is clearly that there were more people who died than people who survived, which follows our intuition that the titanic disaster caused many people to die. We can further get the exact number of survivals and deaths using .value_counts()"
   ]
  },
  {
   "cell_type": "code",
   "execution_count": 7,
   "metadata": {
    "execution": {
     "iopub.execute_input": "2020-10-29T13:29:02.396638Z",
     "iopub.status.busy": "2020-10-29T13:29:02.395852Z",
     "iopub.status.idle": "2020-10-29T13:29:02.639864Z",
     "shell.execute_reply": "2020-10-29T13:29:02.639214Z"
    },
    "papermill": {
     "duration": 0.315296,
     "end_time": "2020-10-29T13:29:02.639988",
     "exception": false,
     "start_time": "2020-10-29T13:29:02.324692",
     "status": "completed"
    },
    "tags": []
   },
   "outputs": [
    {
     "data": {
      "image/png": "[encoded data removed]",
      "text/plain": [
       "<Figure size 1008x432 with 1 Axes>"
      ]
     },
     "metadata": {},
     "output_type": "display_data"
    },
    {
     "data": {
      "text/plain": [
       "0    549\n",
       "1    342\n",
       "Name: Survived, dtype: int64"
      ]
     },
     "execution_count": 7,
     "metadata": {},
     "output_type": "execute_result"
    }
   ],
   "source": [
    "plt.figure(figsize=(14, 6))\n",
    "plt.title(\"Distribution of Survival Result\")\n",
    "sns.countplot(x=train_data['Survived'])\n",
    "plt.show()\n",
    "\n",
    "train_data['Survived'].value_counts()"
   ]
  },
  {
   "cell_type": "markdown",
   "metadata": {
    "papermill": {
     "duration": 0.062943,
     "end_time": "2020-10-29T13:29:02.763551",
     "exception": false,
     "start_time": "2020-10-29T13:29:02.700608",
     "status": "completed"
    },
    "tags": []
   },
   "source": [
    "**2. Univariate Analysis for Other Parameters**\n",
    "\n",
    "Now we have taked a look at Survived category. Let's visualize other columns in the training data. In the titanic dataset, there are nine other variables besides Survived. They are:\n",
    "* pclass: the Ticket class (1 = 1st, 2 = 2nd, 3 = 3rd)\n",
    "\n",
    "* sex:\t             Sex of the passenger\n",
    "\n",
    "* Age:\t             Age in years of the passenger (Age is fractional if less than 1. If the age is estimated, is it in the form of xx.5)\n",
    "\n",
    "* sibsp:\t         # of siblings / spouses the passenger had that were also aboard the Titanic (Sibling = brother, sister, stepbrother, stepsister, Spouse = husband, wife)\n",
    "\n",
    "* parch:             # of parents / children the passenger had that were also aboard the Titanic (Parent = mother, father, Child = daughter, son, stepdaughter, stepson, Some children travelled only with a nanny, therefore parch=0 for them.)\n",
    "\n",
    "* ticket:            Ticket number\t\n",
    "\n",
    "* fare:              Passenger fare\t\n",
    "\n",
    "* cabin:             Cabin number\t\n",
    "\n",
    "* embarked:          Port of Embarkation (C = Cherbourg, Q = Queenstown, S = Southampton)\n",
    "\n",
    "Now we may want to plot graphs to visualize these variables too. (Since ticket number and cabin number are not suitable for analysis we will not visualize them)"
   ]
  },
  {
   "cell_type": "code",
   "execution_count": 8,
   "metadata": {
    "execution": {
     "iopub.execute_input": "2020-10-29T13:29:02.903838Z",
     "iopub.status.busy": "2020-10-29T13:29:02.901890Z",
     "iopub.status.idle": "2020-10-29T13:29:03.087780Z",
     "shell.execute_reply": "2020-10-29T13:29:03.088325Z"
    },
    "papermill": {
     "duration": 0.261023,
     "end_time": "2020-10-29T13:29:03.088525",
     "exception": false,
     "start_time": "2020-10-29T13:29:02.827502",
     "status": "completed"
    },
    "tags": []
   },
   "outputs": [
    {
     "data": {
      "image/png": "[encoded data removed]",
      "text/plain": [
       "<Figure size 1008x432 with 1 Axes>"
      ]
     },
     "metadata": {},
     "output_type": "display_data"
    },
    {
     "data": {
      "text/plain": [
       "3    491\n",
       "1    216\n",
       "2    184\n",
       "Name: Pclass, dtype: int64"
      ]
     },
     "execution_count": 8,
     "metadata": {},
     "output_type": "execute_result"
    }
   ],
   "source": [
    "# Pclass\n",
    "plt.figure(figsize=(14, 6))\n",
    "plt.title(\"Distribution of Passenger Class\")\n",
    "sns.countplot(x=train_data['Pclass'])\n",
    "plt.show()\n",
    "\n",
    "train_data['Pclass'].value_counts()"
   ]
  },
  {
   "cell_type": "code",
   "execution_count": 9,
   "metadata": {
    "execution": {
     "iopub.execute_input": "2020-10-29T13:29:03.227873Z",
     "iopub.status.busy": "2020-10-29T13:29:03.225351Z",
     "iopub.status.idle": "2020-10-29T13:29:03.393002Z",
     "shell.execute_reply": "2020-10-29T13:29:03.393614Z"
    },
    "papermill": {
     "duration": 0.243276,
     "end_time": "2020-10-29T13:29:03.393769",
     "exception": false,
     "start_time": "2020-10-29T13:29:03.150493",
     "status": "completed"
    },
    "tags": []
   },
   "outputs": [
    {
     "data": {
      "image/png": "[encoded data removed]",
      "text/plain": [
       "<Figure size 1008x432 with 1 Axes>"
      ]
     },
     "metadata": {},
     "output_type": "display_data"
    },
    {
     "data": {
      "text/plain": [
       "male      577\n",
       "female    314\n",
       "Name: Sex, dtype: int64"
      ]
     },
     "execution_count": 9,
     "metadata": {},
     "output_type": "execute_result"
    }
   ],
   "source": [
    "# Sex\n",
    "plt.figure(figsize=(14, 6))\n",
    "plt.title(\"Distribution of Passengers' Genders\")\n",
    "sns.countplot(x=train_data['Sex'])\n",
    "plt.show()\n",
    "\n",
    "train_data['Sex'].value_counts()"
   ]
  },
  {
   "cell_type": "code",
   "execution_count": 10,
   "metadata": {
    "execution": {
     "iopub.execute_input": "2020-10-29T13:29:03.538397Z",
     "iopub.status.busy": "2020-10-29T13:29:03.537383Z",
     "iopub.status.idle": "2020-10-29T13:29:03.967508Z",
     "shell.execute_reply": "2020-10-29T13:29:03.966840Z"
    },
    "papermill": {
     "duration": 0.509729,
     "end_time": "2020-10-29T13:29:03.967632",
     "exception": false,
     "start_time": "2020-10-29T13:29:03.457903",
     "status": "completed"
    },
    "tags": []
   },
   "outputs": [
    {
     "data": {
      "image/png": "[encoded data removed]",
      "text/plain": [
       "<Figure size 1008x432 with 1 Axes>"
      ]
     },
     "metadata": {},
     "output_type": "display_data"
    },
    {
     "data": {
      "text/plain": [
       "count    714.000000\n",
       "mean      29.699118\n",
       "std       14.526497\n",
       "min        0.420000\n",
       "25%       20.125000\n",
       "50%       28.000000\n",
       "75%       38.000000\n",
       "max       80.000000\n",
       "Name: Age, dtype: float64"
      ]
     },
     "execution_count": 10,
     "metadata": {},
     "output_type": "execute_result"
    }
   ],
   "source": [
    "# Age\n",
    "plt.figure(figsize=(14, 6))\n",
    "plt.title(\"Distribution of Passengers' Ages\")\n",
    "sns.distplot(a=train_data['Age'], kde=False)\n",
    "plt.show()\n",
    "\n",
    "train_data['Age'].describe()"
   ]
  },
  {
   "cell_type": "code",
   "execution_count": 11,
   "metadata": {
    "execution": {
     "iopub.execute_input": "2020-10-29T13:29:04.113107Z",
     "iopub.status.busy": "2020-10-29T13:29:04.111973Z",
     "iopub.status.idle": "2020-10-29T13:29:04.344066Z",
     "shell.execute_reply": "2020-10-29T13:29:04.343265Z"
    },
    "papermill": {
     "duration": 0.309766,
     "end_time": "2020-10-29T13:29:04.344192",
     "exception": false,
     "start_time": "2020-10-29T13:29:04.034426",
     "status": "completed"
    },
    "tags": []
   },
   "outputs": [
    {
     "data": {
      "image/png": "[encoded data removed]",
      "text/plain": [
       "<Figure size 1008x432 with 1 Axes>"
      ]
     },
     "metadata": {},
     "output_type": "display_data"
    },
    {
     "data": {
      "text/plain": [
       "0    608\n",
       "1    209\n",
       "2     28\n",
       "4     18\n",
       "3     16\n",
       "8      7\n",
       "5      5\n",
       "Name: SibSp, dtype: int64"
      ]
     },
     "execution_count": 11,
     "metadata": {},
     "output_type": "execute_result"
    }
   ],
   "source": [
    "# sibsp\n",
    "\n",
    "plt.figure(figsize=(14, 6))\n",
    "plt.title(\"Distribution of Passengers' number of siblings onboard\")\n",
    "sns.countplot(x=train_data['SibSp'])\n",
    "plt.show()\n",
    "\n",
    "train_data['SibSp'].value_counts()"
   ]
  },
  {
   "cell_type": "code",
   "execution_count": 12,
   "metadata": {
    "execution": {
     "iopub.execute_input": "2020-10-29T13:29:04.496009Z",
     "iopub.status.busy": "2020-10-29T13:29:04.494810Z",
     "iopub.status.idle": "2020-10-29T13:29:04.728726Z",
     "shell.execute_reply": "2020-10-29T13:29:04.729373Z"
    },
    "papermill": {
     "duration": 0.317457,
     "end_time": "2020-10-29T13:29:04.729557",
     "exception": false,
     "start_time": "2020-10-29T13:29:04.412100",
     "status": "completed"
    },
    "tags": []
   },
   "outputs": [
    {
     "data": {
      "image/png": "[encoded data removed]",
      "text/plain": [
       "<Figure size 1008x432 with 1 Axes>"
      ]
     },
     "metadata": {},
     "output_type": "display_data"
    },
    {
     "data": {
      "text/plain": [
       "0    678\n",
       "1    118\n",
       "2     80\n",
       "5      5\n",
       "3      5\n",
       "4      4\n",
       "6      1\n",
       "Name: Parch, dtype: int64"
      ]
     },
     "execution_count": 12,
     "metadata": {},
     "output_type": "execute_result"
    }
   ],
   "source": [
    "# parch\n",
    "plt.figure(figsize=(14, 6))\n",
    "plt.title(\"Distribution of Passengers' number of parents and children onboard\")\n",
    "sns.countplot(x=train_data['Parch'])\n",
    "plt.show()\n",
    "\n",
    "train_data['Parch'].value_counts()"
   ]
  },
  {
   "cell_type": "code",
   "execution_count": 13,
   "metadata": {
    "execution": {
     "iopub.execute_input": "2020-10-29T13:29:04.875982Z",
     "iopub.status.busy": "2020-10-29T13:29:04.875096Z",
     "iopub.status.idle": "2020-10-29T13:29:05.156553Z",
     "shell.execute_reply": "2020-10-29T13:29:05.155803Z"
    },
    "papermill": {
     "duration": 0.358305,
     "end_time": "2020-10-29T13:29:05.156685",
     "exception": false,
     "start_time": "2020-10-29T13:29:04.798380",
     "status": "completed"
    },
    "tags": []
   },
   "outputs": [
    {
     "data": {
      "image/png": "[encoded data removed]",
      "text/plain": [
       "<Figure size 1008x432 with 1 Axes>"
      ]
     },
     "metadata": {},
     "output_type": "display_data"
    },
    {
     "data": {
      "text/plain": [
       "S    644\n",
       "C    168\n",
       "Q     77\n",
       "Name: Embarked, dtype: int64"
      ]
     },
     "execution_count": 13,
     "metadata": {},
     "output_type": "execute_result"
    }
   ],
   "source": [
    "# Embark\n",
    "plt.figure(figsize=(14, 6))\n",
    "plt.title(\"Distribution of Passengers' Embared location\")\n",
    "sns.countplot(x=train_data['Embarked'])\n",
    "plt.show()\n",
    "\n",
    "train_data['Embarked'].value_counts()"
   ]
  },
  {
   "cell_type": "markdown",
   "metadata": {
    "papermill": {
     "duration": 0.070366,
     "end_time": "2020-10-29T13:29:05.298744",
     "exception": false,
     "start_time": "2020-10-29T13:29:05.228378",
     "status": "completed"
    },
    "tags": []
   },
   "source": [
    "We have just visualized most of the columns in training data, and in fact we can now already make some easy observations for each category:\n",
    "* Passenger Class: Most of the passengers resided in the third class; only some are in the first two classes\n",
    "* Sex:             There are more male passengers than there are female passengers\n",
    "* Age:             The distribution seem to be slightly right-skewed and with a median at 28. There are kids who are not even 1 year old and elders who are 80 years old.\n",
    "* SibSp:           Most passengers have no siblings with them, and the number of siblings decreases exponentially\n",
    "* Parch:           Most passengers have no parents or children with them, and the number of siblings decreases exponentially.\n",
    "* Embarked:        Most passengers embarked from Southampton, then Cherbourg; Queenstown has the least number of passengers."
   ]
  },
  {
   "cell_type": "markdown",
   "metadata": {
    "papermill": {
     "duration": 0.070051,
     "end_time": "2020-10-29T13:29:05.439614",
     "exception": false,
     "start_time": "2020-10-29T13:29:05.369563",
     "status": "completed"
    },
    "tags": []
   },
   "source": [
    "# Correlations Between Parameters\n",
    "\n",
    "We have just visualized most columns of our data. Now we may want to find associations between variables to help us understand the data and find useful features to build our model. From univariate graphs we see that there seem to be strong associations between certain variables (for example, Parch and SibSp seems to correlate strongly) So let's examine the correlations between all these parameters. This can be achievd\n",
    "through two ways: **Bivariate Analysis** and a **heat map about correlations**.\n",
    "\n",
    "So let's first begin by drawing some bivariate graphs that compare different variables"
   ]
  },
  {
   "cell_type": "markdown",
   "metadata": {
    "papermill": {
     "duration": 0.069832,
     "end_time": "2020-10-29T13:29:05.580826",
     "exception": false,
     "start_time": "2020-10-29T13:29:05.510994",
     "status": "completed"
    },
    "tags": []
   },
   "source": [
    "1. Pclass\n",
    "\n",
    "The first Bivariate graph we will plot is Passenger Class vs. Survived. Since Pclass is a categorical variable, we will use a bar graph to visualize the association between the two variables. From this graph, we can conclude that class level indeed has an impact on passenger's chance to survive. The average chance of survival decreases as the class level decreases. "
   ]
  },
  {
   "cell_type": "code",
   "execution_count": 14,
   "metadata": {
    "execution": {
     "iopub.execute_input": "2020-10-29T13:29:05.734527Z",
     "iopub.status.busy": "2020-10-29T13:29:05.733657Z",
     "iopub.status.idle": "2020-10-29T13:29:06.038403Z",
     "shell.execute_reply": "2020-10-29T13:29:06.039274Z"
    },
    "papermill": {
     "duration": 0.388762,
     "end_time": "2020-10-29T13:29:06.039568",
     "exception": false,
     "start_time": "2020-10-29T13:29:05.650806",
     "status": "completed"
    },
    "tags": []
   },
   "outputs": [
    {
     "data": {
      "image/png": "[encoded data removed]",
      "text/plain": [
       "<Figure size 1008x432 with 1 Axes>"
      ]
     },
     "metadata": {},
     "output_type": "display_data"
    },
    {
     "name": "stdout",
     "output_type": "stream",
     "text": [
      "   Pclass  Survived\n",
      "0       1  0.629630\n",
      "1       2  0.472826\n",
      "2       3  0.242363\n"
     ]
    }
   ],
   "source": [
    "# Pclass\n",
    "\n",
    "plt.figure(figsize=(14, 6))\n",
    "plt.title(\"Passenger Class vs. Survival Outcome\")\n",
    "sns.barplot(x=train_data['Pclass'], y=train_data['Survived'])\n",
    "plt.show()\n",
    "\n",
    "print( train_data[[\"Pclass\",\"Survived\"]].groupby([\"Pclass\"], as_index = False).mean() )"
   ]
  },
  {
   "cell_type": "markdown",
   "metadata": {
    "papermill": {
     "duration": 0.071857,
     "end_time": "2020-10-29T13:29:06.185771",
     "exception": false,
     "start_time": "2020-10-29T13:29:06.113914",
     "status": "completed"
    },
    "tags": []
   },
   "source": [
    "2. Sex\n",
    "\n",
    "This graph shows that there is a very strong association between passenger's chance of survival and passenger's gender. In fact, the average chance of survival for female passengers is 74.2% and only 18.9% for male passengers! This may also explain why if we just predict all female passengers survived will give us a not bad prediction score. Anyway, we can conclude that gender is definitely an important feature when predicting whether a passenger will survive. "
   ]
  },
  {
   "cell_type": "code",
   "execution_count": 15,
   "metadata": {
    "execution": {
     "iopub.execute_input": "2020-10-29T13:29:06.339144Z",
     "iopub.status.busy": "2020-10-29T13:29:06.338322Z",
     "iopub.status.idle": "2020-10-29T13:29:06.599472Z",
     "shell.execute_reply": "2020-10-29T13:29:06.598407Z"
    },
    "papermill": {
     "duration": 0.339904,
     "end_time": "2020-10-29T13:29:06.599642",
     "exception": false,
     "start_time": "2020-10-29T13:29:06.259738",
     "status": "completed"
    },
    "tags": []
   },
   "outputs": [
    {
     "data": {
      "image/png": "[encoded data removed]",
      "text/plain": [
       "<Figure size 1008x432 with 1 Axes>"
      ]
     },
     "metadata": {},
     "output_type": "display_data"
    },
    {
     "name": "stdout",
     "output_type": "stream",
     "text": [
      "      Sex  Survived\n",
      "0  female  0.742038\n",
      "1    male  0.188908\n"
     ]
    }
   ],
   "source": [
    "# Sex\n",
    "\n",
    "plt.figure(figsize=(14, 6))\n",
    "plt.title(\"Passenger Gender vs. Survival Outcome\")\n",
    "sns.barplot(x=train_data['Sex'], y=train_data['Survived'])\n",
    "plt.show()\n",
    "\n",
    "print( train_data[[\"Sex\",\"Survived\"]].groupby([\"Sex\"], as_index = False).mean() )"
   ]
  },
  {
   "cell_type": "markdown",
   "metadata": {
    "papermill": {
     "duration": 0.075186,
     "end_time": "2020-10-29T13:29:06.752331",
     "exception": false,
     "start_time": "2020-10-29T13:29:06.677145",
     "status": "completed"
    },
    "tags": []
   },
   "source": [
    "3. Age\n",
    "\n",
    "For this variable, I made two curves to show the distribution of age of passengers who survived and who did not. The two graphs seem to be pretty similar to each other. One thing I notice that is particularly interesting is that more kids below age of 10 seemed to have survived from titanic, as the brown curve is higher when age is below 10. This is also something we want to keep in mind."
   ]
  },
  {
   "cell_type": "code",
   "execution_count": 16,
   "metadata": {
    "execution": {
     "iopub.execute_input": "2020-10-29T13:29:06.915114Z",
     "iopub.status.busy": "2020-10-29T13:29:06.914001Z",
     "iopub.status.idle": "2020-10-29T13:29:07.610289Z",
     "shell.execute_reply": "2020-10-29T13:29:07.609521Z"
    },
    "papermill": {
     "duration": 0.781912,
     "end_time": "2020-10-29T13:29:07.610415",
     "exception": false,
     "start_time": "2020-10-29T13:29:06.828503",
     "status": "completed"
    },
    "tags": []
   },
   "outputs": [
    {
     "data": {
      "text/plain": [
       "<seaborn.axisgrid.FacetGrid at 0x7fb687de1a90>"
      ]
     },
     "execution_count": 16,
     "metadata": {},
     "output_type": "execute_result"
    },
    {
     "data": {
      "image/png": "[encoded data removed]",
      "text/plain": [
       "<Figure size 701.425x216 with 1 Axes>"
      ]
     },
     "metadata": {},
     "output_type": "display_data"
    }
   ],
   "source": [
    "# Age\n",
    "\n",
    "ageFacet=sns.FacetGrid(train_data,hue='Survived',aspect=3)\n",
    "\n",
    "ageFacet.map(sns.kdeplot,'Age',shade=True)\n",
    "\n",
    "ageFacet.set(xlim=(0,train_data['Age'].max()))\n",
    "ageFacet.add_legend()"
   ]
  },
  {
   "cell_type": "markdown",
   "metadata": {
    "papermill": {
     "duration": 0.075678,
     "end_time": "2020-10-29T13:29:07.762658",
     "exception": false,
     "start_time": "2020-10-29T13:29:07.686980",
     "status": "completed"
    },
    "tags": []
   },
   "source": [
    "4. Parch\n",
    "\n",
    "For this variable, this is not really a clear trend. However, it can be argued that when the passenger has an average parent/children group size (e.g 1, 2, and 3), the survival rate seems to be slighly higher than if the passenger has other group sizes. "
   ]
  },
  {
   "cell_type": "code",
   "execution_count": 17,
   "metadata": {
    "execution": {
     "iopub.execute_input": "2020-10-29T13:29:07.924901Z",
     "iopub.status.busy": "2020-10-29T13:29:07.921134Z",
     "iopub.status.idle": "2020-10-29T13:29:08.396988Z",
     "shell.execute_reply": "2020-10-29T13:29:08.397693Z"
    },
    "papermill": {
     "duration": 0.560596,
     "end_time": "2020-10-29T13:29:08.397865",
     "exception": false,
     "start_time": "2020-10-29T13:29:07.837269",
     "status": "completed"
    },
    "tags": []
   },
   "outputs": [
    {
     "data": {
      "image/png": "[encoded data removed]",
      "text/plain": [
       "<Figure size 1008x432 with 1 Axes>"
      ]
     },
     "metadata": {},
     "output_type": "display_data"
    },
    {
     "name": "stdout",
     "output_type": "stream",
     "text": [
      "Survival rate if having 0 relatives:  0.34365781710914456\n",
      "Survival rate if having 1 relatives:  0.5508474576271186\n",
      "Survival rate if having 2 relatives:  0.5\n",
      "Survival rate if having 5 relatives:  0.2\n",
      "Survival rate if having 3 relatives:  0.6\n",
      "No info for 4 relatives\n",
      "No info for 6 relatives\n"
     ]
    }
   ],
   "source": [
    "# Parch\n",
    "\n",
    "plt.figure(figsize=(14, 6))\n",
    "plt.title(\"Number of Parents and Children vs. Survive Outcome\")\n",
    "sns.barplot(x=train_data['Parch'], y=train_data['Survived'])\n",
    "plt.show()\n",
    "\n",
    "for num in train_data['Parch'].dropna().unique():\n",
    "    if (num == 4) or (num == 6):\n",
    "        print(f\"No info for {num} relatives\")\n",
    "    else:\n",
    "        print(f\"Survival rate if having {num} relatives: \", train_data['Survived'][train_data['Parch']==num].value_counts(normalize=True)[1])"
   ]
  },
  {
   "cell_type": "markdown",
   "metadata": {
    "papermill": {
     "duration": 0.078236,
     "end_time": "2020-10-29T13:29:08.552934",
     "exception": false,
     "start_time": "2020-10-29T13:29:08.474698",
     "status": "completed"
    },
    "tags": []
   },
   "source": [
    "5. SibSp\n",
    "\n",
    "Again, this graph may show that if the passenger has an average sibling/spouse group size, the survival rate may be slightly higher."
   ]
  },
  {
   "cell_type": "code",
   "execution_count": 18,
   "metadata": {
    "execution": {
     "iopub.execute_input": "2020-10-29T13:29:08.716925Z",
     "iopub.status.busy": "2020-10-29T13:29:08.716114Z",
     "iopub.status.idle": "2020-10-29T13:29:09.239434Z",
     "shell.execute_reply": "2020-10-29T13:29:09.238541Z"
    },
    "papermill": {
     "duration": 0.609905,
     "end_time": "2020-10-29T13:29:09.239596",
     "exception": false,
     "start_time": "2020-10-29T13:29:08.629691",
     "status": "completed"
    },
    "tags": []
   },
   "outputs": [
    {
     "data": {
      "image/png": "[encoded data removed]",
      "text/plain": [
       "<Figure size 1008x432 with 1 Axes>"
      ]
     },
     "metadata": {},
     "output_type": "display_data"
    },
    {
     "name": "stdout",
     "output_type": "stream",
     "text": [
      "Survival rate if having 1 relatives:  0.5358851674641149\n",
      "Survival rate if having 0 relatives:  0.34539473684210525\n",
      "Survival rate if having 3 relatives:  0.25\n",
      "Survival rate if having 4 relatives:  0.16666666666666666\n",
      "Survival rate if having 2 relatives:  0.4642857142857143\n",
      "No info for 5 siblings and spouses\n",
      "No info for 8 siblings and spouses\n"
     ]
    }
   ],
   "source": [
    "# SibSp\n",
    "\n",
    "plt.figure(figsize=(14, 6))\n",
    "plt.title(\"Number of Siblings and Spouses vs. Survive Outcome\")\n",
    "sns.barplot(x=train_data['SibSp'], y=train_data['Survived'])\n",
    "plt.show()\n",
    "\n",
    "for num in train_data['SibSp'].dropna().unique():\n",
    "    if (num == 5) or (num == 8):\n",
    "        print(f\"No info for {num} siblings and spouses\")\n",
    "    else:\n",
    "        print(f\"Survival rate if having {num} relatives: \", train_data['Survived'][train_data['SibSp']==num].value_counts(normalize=True)[1])"
   ]
  },
  {
   "cell_type": "markdown",
   "metadata": {
    "papermill": {
     "duration": 0.077327,
     "end_time": "2020-10-29T13:29:09.396919",
     "exception": false,
     "start_time": "2020-10-29T13:29:09.319592",
     "status": "completed"
    },
    "tags": []
   },
   "source": [
    "6. Embarked\n",
    "\n",
    "This graph shows that passengers who embarked from Cherbourg seem to have a sligherly higher chance to survive. "
   ]
  },
  {
   "cell_type": "code",
   "execution_count": 19,
   "metadata": {
    "execution": {
     "iopub.execute_input": "2020-10-29T13:29:09.567544Z",
     "iopub.status.busy": "2020-10-29T13:29:09.562148Z",
     "iopub.status.idle": "2020-10-29T13:29:09.865907Z",
     "shell.execute_reply": "2020-10-29T13:29:09.866476Z"
    },
    "papermill": {
     "duration": 0.391584,
     "end_time": "2020-10-29T13:29:09.866646",
     "exception": false,
     "start_time": "2020-10-29T13:29:09.475062",
     "status": "completed"
    },
    "tags": []
   },
   "outputs": [
    {
     "data": {
      "image/png": "[encoded data removed]",
      "text/plain": [
       "<Figure size 1008x432 with 1 Axes>"
      ]
     },
     "metadata": {},
     "output_type": "display_data"
    },
    {
     "name": "stdout",
     "output_type": "stream",
     "text": [
      "Survival rate if embarked from S:  0.33695652173913043\n",
      "Survival rate if embarked from C:  0.5535714285714286\n",
      "Survival rate if embarked from Q:  0.38961038961038963\n"
     ]
    }
   ],
   "source": [
    "# Embarked\n",
    "\n",
    "plt.figure(figsize=(14, 6))\n",
    "plt.title(\"Number of Parents and Children vs. Survive Outcome\")\n",
    "sns.barplot(x=train_data['Embarked'], y=train_data['Survived'])\n",
    "plt.show()\n",
    "\n",
    "for location in train_data['Embarked'].dropna().unique():\n",
    "    print(f\"Survival rate if embarked from {location}: \", train_data['Survived'][train_data['Embarked']==location].value_counts(normalize=True)[1])"
   ]
  },
  {
   "cell_type": "markdown",
   "metadata": {
    "papermill": {
     "duration": 0.082115,
     "end_time": "2020-10-29T13:29:10.027918",
     "exception": false,
     "start_time": "2020-10-29T13:29:09.945803",
     "status": "completed"
    },
    "tags": []
   },
   "source": [
    "7. Fare\n",
    "\n",
    "This graph shows that for passengers whose fare is below 20, the chance to survive is slightly higher. "
   ]
  },
  {
   "cell_type": "code",
   "execution_count": 20,
   "metadata": {
    "execution": {
     "iopub.execute_input": "2020-10-29T13:29:10.199316Z",
     "iopub.status.busy": "2020-10-29T13:29:10.197951Z",
     "iopub.status.idle": "2020-10-29T13:29:11.027366Z",
     "shell.execute_reply": "2020-10-29T13:29:11.027947Z"
    },
    "papermill": {
     "duration": 0.919723,
     "end_time": "2020-10-29T13:29:11.028117",
     "exception": false,
     "start_time": "2020-10-29T13:29:10.108394",
     "status": "completed"
    },
    "tags": []
   },
   "outputs": [
    {
     "data": {
      "text/plain": [
       "<matplotlib.legend.Legend at 0x7fb687ab50d0>"
      ]
     },
     "execution_count": 20,
     "metadata": {},
     "output_type": "execute_result"
    },
    {
     "data": {
      "image/png": "[encoded data removed]",
      "text/plain": [
       "<Figure size 701.425x216 with 1 Axes>"
      ]
     },
     "metadata": {},
     "output_type": "display_data"
    }
   ],
   "source": [
    "# Fare\n",
    "\n",
    "ageFacet=sns.FacetGrid(train_data,hue='Survived',aspect=3)\n",
    "ageFacet.map(sns.kdeplot,'Fare',shade=True)\n",
    "ageFacet.set(xlim=(0,150))\n",
    "ageFacet.add_legend()\n",
    "\n",
    "farePlot=sns.distplot(full_data['Fare'][full_data['Fare'].notnull()],label='skewness:%.2f'%(full_data['Fare'].skew()))\n",
    "farePlot.legend(loc='best')"
   ]
  },
  {
   "cell_type": "markdown",
   "metadata": {
    "papermill": {
     "duration": 0.081705,
     "end_time": "2020-10-29T13:29:11.240814",
     "exception": false,
     "start_time": "2020-10-29T13:29:11.159109",
     "status": "completed"
    },
    "tags": []
   },
   "source": [
    "Because the above graph shows that the distribution for **Fare** category is strongly right-skewed, we apply log transformation on it"
   ]
  },
  {
   "cell_type": "code",
   "execution_count": 21,
   "metadata": {
    "execution": {
     "iopub.execute_input": "2020-10-29T13:29:11.415402Z",
     "iopub.status.busy": "2020-10-29T13:29:11.414485Z",
     "iopub.status.idle": "2020-10-29T13:29:11.418064Z",
     "shell.execute_reply": "2020-10-29T13:29:11.417292Z"
    },
    "papermill": {
     "duration": 0.096282,
     "end_time": "2020-10-29T13:29:11.418223",
     "exception": false,
     "start_time": "2020-10-29T13:29:11.321941",
     "status": "completed"
    },
    "tags": []
   },
   "outputs": [],
   "source": [
    "full_data['Fare']=full_data['Fare'].map(lambda x: np.log(x) if x>0 else 0)"
   ]
  },
  {
   "cell_type": "markdown",
   "metadata": {
    "papermill": {
     "duration": 0.082134,
     "end_time": "2020-10-29T13:29:11.581750",
     "exception": false,
     "start_time": "2020-10-29T13:29:11.499616",
     "status": "completed"
    },
    "tags": []
   },
   "source": [
    "# Data Preprocessing\n",
    "\n",
    "So we just visualized most of our data. The next step would be to proprocess our data in order to select features to train our model. Data Preprocessing essentially have four components: Data Cleaning, Feature Engineering, Cluster Recognition, and Feature Selection\n"
   ]
  },
  {
   "cell_type": "markdown",
   "metadata": {
    "papermill": {
     "duration": 0.080822,
     "end_time": "2020-10-29T13:29:11.746166",
     "exception": false,
     "start_time": "2020-10-29T13:29:11.665344",
     "status": "completed"
    },
    "tags": []
   },
   "source": [
    "1. Data Cleaning: Handle missing/abnormal values\n",
    "\n",
    "So in this dataset, there are four columns that contain missing data - Age, Fare, Cabin, and Embarked. Let's first clean the missing values. "
   ]
  },
  {
   "cell_type": "markdown",
   "metadata": {
    "papermill": {
     "duration": 0.080842,
     "end_time": "2020-10-29T13:29:11.907979",
     "exception": false,
     "start_time": "2020-10-29T13:29:11.827137",
     "status": "completed"
    },
    "tags": []
   },
   "source": [
    "Cabin:\n",
    "We will just replace missing values in the Cabin column with \"Unknown\""
   ]
  },
  {
   "cell_type": "code",
   "execution_count": 22,
   "metadata": {
    "execution": {
     "iopub.execute_input": "2020-10-29T13:29:12.081223Z",
     "iopub.status.busy": "2020-10-29T13:29:12.080316Z",
     "iopub.status.idle": "2020-10-29T13:29:12.084148Z",
     "shell.execute_reply": "2020-10-29T13:29:12.084746Z"
    },
    "papermill": {
     "duration": 0.095491,
     "end_time": "2020-10-29T13:29:12.084917",
     "exception": false,
     "start_time": "2020-10-29T13:29:11.989426",
     "status": "completed"
    },
    "tags": []
   },
   "outputs": [
    {
     "data": {
      "text/plain": [
       "0    Unkown\n",
       "1       C85\n",
       "2    Unkown\n",
       "3      C123\n",
       "4    Unkown\n",
       "Name: Cabin, dtype: object"
      ]
     },
     "execution_count": 22,
     "metadata": {},
     "output_type": "execute_result"
    }
   ],
   "source": [
    "full_data['Cabin'] = full_data['Cabin'].fillna('Unkown')\n",
    "full_data['Cabin'].head()"
   ]
  },
  {
   "cell_type": "markdown",
   "metadata": {
    "papermill": {
     "duration": 0.086122,
     "end_time": "2020-10-29T13:29:12.253884",
     "exception": false,
     "start_time": "2020-10-29T13:29:12.167762",
     "status": "completed"
    },
    "tags": []
   },
   "source": [
    "Embarked: Since most passengers embarked from Southampton, we will just replace the two missing values in Embarked with S."
   ]
  },
  {
   "cell_type": "code",
   "execution_count": 23,
   "metadata": {
    "execution": {
     "iopub.execute_input": "2020-10-29T13:29:12.438591Z",
     "iopub.status.busy": "2020-10-29T13:29:12.437683Z",
     "iopub.status.idle": "2020-10-29T13:29:12.442659Z",
     "shell.execute_reply": "2020-10-29T13:29:12.441894Z"
    },
    "papermill": {
     "duration": 0.106047,
     "end_time": "2020-10-29T13:29:12.442788",
     "exception": false,
     "start_time": "2020-10-29T13:29:12.336741",
     "status": "completed"
    },
    "tags": []
   },
   "outputs": [
    {
     "data": {
      "text/html": [
       "<div>\n",
       "<style scoped>\n",
       "    .dataframe tbody tr th:only-of-type {\n",
       "        vertical-align: middle;\n",
       "    }\n",
       "\n",
       "    .dataframe tbody tr th {\n",
       "        vertical-align: top;\n",
       "    }\n",
       "\n",
       "    .dataframe thead th {\n",
       "        text-align: right;\n",
       "    }\n",
       "</style>\n",
       "<table border=\"1\" class=\"dataframe\">\n",
       "  <thead>\n",
       "    <tr style=\"text-align: right;\">\n",
       "      <th></th>\n",
       "      <th>PassengerId</th>\n",
       "      <th>Survived</th>\n",
       "      <th>Pclass</th>\n",
       "      <th>Name</th>\n",
       "      <th>Sex</th>\n",
       "      <th>Age</th>\n",
       "      <th>SibSp</th>\n",
       "      <th>Parch</th>\n",
       "      <th>Ticket</th>\n",
       "      <th>Fare</th>\n",
       "      <th>Cabin</th>\n",
       "      <th>Embarked</th>\n",
       "    </tr>\n",
       "  </thead>\n",
       "  <tbody>\n",
       "    <tr>\n",
       "      <th>61</th>\n",
       "      <td>62</td>\n",
       "      <td>1.0</td>\n",
       "      <td>1</td>\n",
       "      <td>Icard, Miss. Amelie</td>\n",
       "      <td>female</td>\n",
       "      <td>38.0</td>\n",
       "      <td>0</td>\n",
       "      <td>0</td>\n",
       "      <td>113572</td>\n",
       "      <td>4.382027</td>\n",
       "      <td>B28</td>\n",
       "      <td>NaN</td>\n",
       "    </tr>\n",
       "    <tr>\n",
       "      <th>829</th>\n",
       "      <td>830</td>\n",
       "      <td>1.0</td>\n",
       "      <td>1</td>\n",
       "      <td>Stone, Mrs. George Nelson (Martha Evelyn)</td>\n",
       "      <td>female</td>\n",
       "      <td>62.0</td>\n",
       "      <td>0</td>\n",
       "      <td>0</td>\n",
       "      <td>113572</td>\n",
       "      <td>4.382027</td>\n",
       "      <td>B28</td>\n",
       "      <td>NaN</td>\n",
       "    </tr>\n",
       "  </tbody>\n",
       "</table>\n",
       "</div>"
      ],
      "text/plain": [
       "     PassengerId  Survived  Pclass                                       Name  \\\n",
       "61            62       1.0       1                        Icard, Miss. Amelie   \n",
       "829          830       1.0       1  Stone, Mrs. George Nelson (Martha Evelyn)   \n",
       "\n",
       "        Sex   Age  SibSp  Parch  Ticket      Fare Cabin Embarked  \n",
       "61   female  38.0      0      0  113572  4.382027   B28      NaN  \n",
       "829  female  62.0      0      0  113572  4.382027   B28      NaN  "
      ]
     },
     "execution_count": 23,
     "metadata": {},
     "output_type": "execute_result"
    }
   ],
   "source": [
    "full_data[full_data['Embarked'].isnull()]"
   ]
  },
  {
   "cell_type": "code",
   "execution_count": 24,
   "metadata": {
    "execution": {
     "iopub.execute_input": "2020-10-29T13:29:12.620001Z",
     "iopub.status.busy": "2020-10-29T13:29:12.618867Z",
     "iopub.status.idle": "2020-10-29T13:29:12.622744Z",
     "shell.execute_reply": "2020-10-29T13:29:12.623418Z"
    },
    "papermill": {
     "duration": 0.096966,
     "end_time": "2020-10-29T13:29:12.623621",
     "exception": false,
     "start_time": "2020-10-29T13:29:12.526655",
     "status": "completed"
    },
    "tags": []
   },
   "outputs": [
    {
     "data": {
      "text/plain": [
       "S    914\n",
       "C    270\n",
       "Q    123\n",
       "Name: Embarked, dtype: int64"
      ]
     },
     "execution_count": 24,
     "metadata": {},
     "output_type": "execute_result"
    }
   ],
   "source": [
    "full_data['Embarked'].value_counts()"
   ]
  },
  {
   "cell_type": "code",
   "execution_count": 25,
   "metadata": {
    "execution": {
     "iopub.execute_input": "2020-10-29T13:29:12.800964Z",
     "iopub.status.busy": "2020-10-29T13:29:12.799859Z",
     "iopub.status.idle": "2020-10-29T13:29:12.803739Z",
     "shell.execute_reply": "2020-10-29T13:29:12.802963Z"
    },
    "papermill": {
     "duration": 0.09505,
     "end_time": "2020-10-29T13:29:12.803885",
     "exception": false,
     "start_time": "2020-10-29T13:29:12.708835",
     "status": "completed"
    },
    "tags": []
   },
   "outputs": [],
   "source": [
    "full_data['Embarked']=full_data['Embarked'].fillna('S')"
   ]
  },
  {
   "cell_type": "markdown",
   "metadata": {
    "papermill": {
     "duration": 0.083738,
     "end_time": "2020-10-29T13:29:12.973135",
     "exception": false,
     "start_time": "2020-10-29T13:29:12.889397",
     "status": "completed"
    },
    "tags": []
   },
   "source": [
    "Fare: We will replace this one missing value in the test data with the average of other fare values from passengers who were also in the 3rd class, from Southampton, and had an unknown cabin value"
   ]
  },
  {
   "cell_type": "code",
   "execution_count": 26,
   "metadata": {
    "execution": {
     "iopub.execute_input": "2020-10-29T13:29:13.159837Z",
     "iopub.status.busy": "2020-10-29T13:29:13.158908Z",
     "iopub.status.idle": "2020-10-29T13:29:13.163266Z",
     "shell.execute_reply": "2020-10-29T13:29:13.163854Z"
    },
    "papermill": {
     "duration": 0.103497,
     "end_time": "2020-10-29T13:29:13.164028",
     "exception": false,
     "start_time": "2020-10-29T13:29:13.060531",
     "status": "completed"
    },
    "tags": []
   },
   "outputs": [
    {
     "data": {
      "text/html": [
       "<div>\n",
       "<style scoped>\n",
       "    .dataframe tbody tr th:only-of-type {\n",
       "        vertical-align: middle;\n",
       "    }\n",
       "\n",
       "    .dataframe tbody tr th {\n",
       "        vertical-align: top;\n",
       "    }\n",
       "\n",
       "    .dataframe thead th {\n",
       "        text-align: right;\n",
       "    }\n",
       "</style>\n",
       "<table border=\"1\" class=\"dataframe\">\n",
       "  <thead>\n",
       "    <tr style=\"text-align: right;\">\n",
       "      <th></th>\n",
       "      <th>PassengerId</th>\n",
       "      <th>Survived</th>\n",
       "      <th>Pclass</th>\n",
       "      <th>Name</th>\n",
       "      <th>Sex</th>\n",
       "      <th>Age</th>\n",
       "      <th>SibSp</th>\n",
       "      <th>Parch</th>\n",
       "      <th>Ticket</th>\n",
       "      <th>Fare</th>\n",
       "      <th>Cabin</th>\n",
       "      <th>Embarked</th>\n",
       "    </tr>\n",
       "  </thead>\n",
       "  <tbody>\n",
       "  </tbody>\n",
       "</table>\n",
       "</div>"
      ],
      "text/plain": [
       "Empty DataFrame\n",
       "Columns: [PassengerId, Survived, Pclass, Name, Sex, Age, SibSp, Parch, Ticket, Fare, Cabin, Embarked]\n",
       "Index: []"
      ]
     },
     "execution_count": 26,
     "metadata": {},
     "output_type": "execute_result"
    }
   ],
   "source": [
    "full_data[full_data['Fare'].isnull()]"
   ]
  },
  {
   "cell_type": "code",
   "execution_count": 27,
   "metadata": {
    "execution": {
     "iopub.execute_input": "2020-10-29T13:29:13.344091Z",
     "iopub.status.busy": "2020-10-29T13:29:13.343314Z",
     "iopub.status.idle": "2020-10-29T13:29:13.346475Z",
     "shell.execute_reply": "2020-10-29T13:29:13.347020Z"
    },
    "papermill": {
     "duration": 0.09824,
     "end_time": "2020-10-29T13:29:13.347196",
     "exception": false,
     "start_time": "2020-10-29T13:29:13.248956",
     "status": "completed"
    },
    "tags": []
   },
   "outputs": [],
   "source": [
    "full_data['Fare'] = full_data['Fare'].fillna(full_data[(full_data['Pclass']==3)&(full_data['Embarked']=='S')&(full_data['Cabin']=='U')]['Fare'].mean()) "
   ]
  },
  {
   "cell_type": "markdown",
   "metadata": {
    "papermill": {
     "duration": 0.08586,
     "end_time": "2020-10-29T13:29:13.518224",
     "exception": false,
     "start_time": "2020-10-29T13:29:13.432364",
     "status": "completed"
    },
    "tags": []
   },
   "source": [
    "2. Feature Engineering: Create new features based on existing variables to extract useful information from data"
   ]
  },
  {
   "cell_type": "markdown",
   "metadata": {
    "papermill": {
     "duration": 0.087557,
     "end_time": "2020-10-29T13:29:13.694128",
     "exception": false,
     "start_time": "2020-10-29T13:29:13.606571",
     "status": "completed"
    },
    "tags": []
   },
   "source": [
    "2.1 Title Column: \n",
    "\n",
    "Name for each passenger can indirectly reflect their status, which will also influence the likelyhood to survive from the disaster"
   ]
  },
  {
   "cell_type": "code",
   "execution_count": 28,
   "metadata": {
    "execution": {
     "iopub.execute_input": "2020-10-29T13:29:13.878350Z",
     "iopub.status.busy": "2020-10-29T13:29:13.877529Z",
     "iopub.status.idle": "2020-10-29T13:29:13.882760Z",
     "shell.execute_reply": "2020-10-29T13:29:13.882107Z"
    },
    "papermill": {
     "duration": 0.1038,
     "end_time": "2020-10-29T13:29:13.882891",
     "exception": false,
     "start_time": "2020-10-29T13:29:13.779091",
     "status": "completed"
    },
    "tags": []
   },
   "outputs": [
    {
     "data": {
      "text/plain": [
       "Mr              757\n",
       "Miss            260\n",
       "Mrs             197\n",
       "Master           61\n",
       "Dr                8\n",
       "Rev               8\n",
       "Col               4\n",
       "Ms                2\n",
       "Mlle              2\n",
       "Major             2\n",
       "Capt              1\n",
       "the Countess      1\n",
       "Sir               1\n",
       "Dona              1\n",
       "Don               1\n",
       "Jonkheer          1\n",
       "Mme               1\n",
       "Lady              1\n",
       "Name: Title, dtype: int64"
      ]
     },
     "execution_count": 28,
     "metadata": {},
     "output_type": "execute_result"
    }
   ],
   "source": [
    "full_data['Title']=full_data['Name'].map(lambda x:x.split(',')[1].split('.')[0].strip())\n",
    "\n",
    "full_data['Title'].value_counts()"
   ]
  },
  {
   "cell_type": "code",
   "execution_count": 29,
   "metadata": {
    "execution": {
     "iopub.execute_input": "2020-10-29T13:29:14.072669Z",
     "iopub.status.busy": "2020-10-29T13:29:14.063328Z",
     "iopub.status.idle": "2020-10-29T13:29:14.077517Z",
     "shell.execute_reply": "2020-10-29T13:29:14.076749Z"
    },
    "papermill": {
     "duration": 0.109775,
     "end_time": "2020-10-29T13:29:14.077650",
     "exception": false,
     "start_time": "2020-10-29T13:29:13.967875",
     "status": "completed"
    },
    "tags": []
   },
   "outputs": [
    {
     "data": {
      "text/plain": [
       "Mr         757\n",
       "Miss       262\n",
       "Mrs        200\n",
       "Master      62\n",
       "Officer     23\n",
       "Royalty      5\n",
       "Name: Title, dtype: int64"
      ]
     },
     "execution_count": 29,
     "metadata": {},
     "output_type": "execute_result"
    }
   ],
   "source": [
    "# Group similar titles together\n",
    "\n",
    "TitleDict={}\n",
    "TitleDict['Mr']='Mr'\n",
    "TitleDict['Mlle']='Miss'\n",
    "TitleDict['Miss']='Miss'\n",
    "TitleDict['Master']='Master'\n",
    "TitleDict['Jonkheer']='Master'\n",
    "TitleDict['Mme']='Mrs'\n",
    "TitleDict['Ms']='Mrs'\n",
    "TitleDict['Mrs']='Mrs'\n",
    "TitleDict['Don']='Royalty'\n",
    "TitleDict['Sir']='Royalty'\n",
    "TitleDict['the Countess']='Royalty'\n",
    "TitleDict['Dona']='Royalty'\n",
    "TitleDict['Lady']='Royalty'\n",
    "TitleDict['Capt']='Officer'\n",
    "TitleDict['Col']='Officer'\n",
    "TitleDict['Major']='Officer'\n",
    "TitleDict['Dr']='Officer'\n",
    "TitleDict['Rev']='Officer'\n",
    "\n",
    "full_data['Title']=full_data['Title'].map(TitleDict)\n",
    "full_data['Title'].value_counts()"
   ]
  },
  {
   "cell_type": "code",
   "execution_count": 30,
   "metadata": {
    "execution": {
     "iopub.execute_input": "2020-10-29T13:29:14.261559Z",
     "iopub.status.busy": "2020-10-29T13:29:14.259417Z",
     "iopub.status.idle": "2020-10-29T13:29:14.687231Z",
     "shell.execute_reply": "2020-10-29T13:29:14.688237Z"
    },
    "papermill": {
     "duration": 0.524165,
     "end_time": "2020-10-29T13:29:14.688553",
     "exception": false,
     "start_time": "2020-10-29T13:29:14.164388",
     "status": "completed"
    },
    "tags": []
   },
   "outputs": [
    {
     "data": {
      "text/plain": [
       "<matplotlib.axes._subplots.AxesSubplot at 0x7fb687a3ba90>"
      ]
     },
     "execution_count": 30,
     "metadata": {},
     "output_type": "execute_result"
    },
    {
     "data": {
      "image/png": "[encoded data removed]",
      "text/plain": [
       "<Figure size 432x288 with 1 Axes>"
      ]
     },
     "metadata": {},
     "output_type": "display_data"
    }
   ],
   "source": [
    "sns.barplot(data=full_data,x='Title',y='Survived')"
   ]
  },
  {
   "cell_type": "markdown",
   "metadata": {
    "papermill": {
     "duration": 0.087432,
     "end_time": "2020-10-29T13:29:14.885479",
     "exception": false,
     "start_time": "2020-10-29T13:29:14.798047",
     "status": "completed"
    },
    "tags": []
   },
   "source": [
    "Passengers with the title \"Mr.\" shows a significantly low survival rate"
   ]
  },
  {
   "cell_type": "markdown",
   "metadata": {
    "papermill": {
     "duration": 0.0934,
     "end_time": "2020-10-29T13:29:15.068319",
     "exception": false,
     "start_time": "2020-10-29T13:29:14.974919",
     "status": "completed"
    },
    "tags": []
   },
   "source": [
    "2.2 Family Size:\n",
    "\n",
    "the family size can be reflected by SibSp + Parch + 1 where the '1' refers to that particular passenger"
   ]
  },
  {
   "cell_type": "code",
   "execution_count": 31,
   "metadata": {
    "execution": {
     "iopub.execute_input": "2020-10-29T13:29:15.255315Z",
     "iopub.status.busy": "2020-10-29T13:29:15.254388Z",
     "iopub.status.idle": "2020-10-29T13:29:15.814504Z",
     "shell.execute_reply": "2020-10-29T13:29:15.813636Z"
    },
    "papermill": {
     "duration": 0.658494,
     "end_time": "2020-10-29T13:29:15.814648",
     "exception": false,
     "start_time": "2020-10-29T13:29:15.156154",
     "status": "completed"
    },
    "tags": []
   },
   "outputs": [
    {
     "data": {
      "text/plain": [
       "<matplotlib.axes._subplots.AxesSubplot at 0x7fb6858a05d0>"
      ]
     },
     "execution_count": 31,
     "metadata": {},
     "output_type": "execute_result"
    },
    {
     "data": {
      "image/png": "[encoded data removed]",
      "text/plain": [
       "<Figure size 432x288 with 1 Axes>"
      ]
     },
     "metadata": {},
     "output_type": "display_data"
    }
   ],
   "source": [
    "full_data['Family'] = full_data['SibSp'] + full_data['Parch'] + 1\n",
    "\n",
    "sns.barplot(data=full_data,x='Family',y='Survived')"
   ]
  },
  {
   "cell_type": "markdown",
   "metadata": {
    "papermill": {
     "duration": 0.089142,
     "end_time": "2020-10-29T13:29:15.992626",
     "exception": false,
     "start_time": "2020-10-29T13:29:15.903484",
     "status": "completed"
    },
    "tags": []
   },
   "source": [
    "The above graph again shows that when the family size is about average (e.g 2 to 4 people), the chance to survive will be higher. So let's just classify each family into one of three categories: below 2 people, 2 to 4 people, and more than 4 people."
   ]
  },
  {
   "cell_type": "code",
   "execution_count": 32,
   "metadata": {
    "execution": {
     "iopub.execute_input": "2020-10-29T13:29:16.191899Z",
     "iopub.status.busy": "2020-10-29T13:29:16.190754Z",
     "iopub.status.idle": "2020-10-29T13:29:16.480623Z",
     "shell.execute_reply": "2020-10-29T13:29:16.479887Z"
    },
    "papermill": {
     "duration": 0.395685,
     "end_time": "2020-10-29T13:29:16.480758",
     "exception": false,
     "start_time": "2020-10-29T13:29:16.085073",
     "status": "completed"
    },
    "tags": []
   },
   "outputs": [
    {
     "data": {
      "text/plain": [
       "0    790\n",
       "1    437\n",
       "2     82\n",
       "Name: familySize, dtype: int64"
      ]
     },
     "execution_count": 32,
     "metadata": {},
     "output_type": "execute_result"
    },
    {
     "data": {
      "image/png": "[encoded data removed]",
      "text/plain": [
       "<Figure size 432x288 with 1 Axes>"
      ]
     },
     "metadata": {},
     "output_type": "display_data"
    }
   ],
   "source": [
    "def familysize(familyNum):\n",
    "    if familyNum == 1:\n",
    "        return 0\n",
    "    elif (familyNum>=2) & (familyNum<=4):\n",
    "        return 1\n",
    "    else:\n",
    "        return 2\n",
    "\n",
    "full_data['familySize'] = full_data['Family'].map(familysize)\n",
    "sns.barplot(data=full_data,x='familySize',y='Survived')\n",
    "full_data['familySize'].value_counts()"
   ]
  },
  {
   "cell_type": "markdown",
   "metadata": {
    "papermill": {
     "duration": 0.091685,
     "end_time": "2020-10-29T13:29:16.663503",
     "exception": false,
     "start_time": "2020-10-29T13:29:16.571818",
     "status": "completed"
    },
    "tags": []
   },
   "source": [
    "2.3 Cabin Deck:\n",
    "\n",
    "The first letter in Cabin value for each passenger reflects the deck they stay in, and the better the deck is, the more likely the passenger will survive. So we may also want to create a new column for deck. "
   ]
  },
  {
   "cell_type": "code",
   "execution_count": 33,
   "metadata": {
    "execution": {
     "iopub.execute_input": "2020-10-29T13:29:16.853315Z",
     "iopub.status.busy": "2020-10-29T13:29:16.852166Z",
     "iopub.status.idle": "2020-10-29T13:29:17.391274Z",
     "shell.execute_reply": "2020-10-29T13:29:17.390481Z"
    },
    "papermill": {
     "duration": 0.637871,
     "end_time": "2020-10-29T13:29:17.391403",
     "exception": false,
     "start_time": "2020-10-29T13:29:16.753532",
     "status": "completed"
    },
    "tags": []
   },
   "outputs": [
    {
     "data": {
      "text/plain": [
       "<matplotlib.axes._subplots.AxesSubplot at 0x7fb685729190>"
      ]
     },
     "execution_count": 33,
     "metadata": {},
     "output_type": "execute_result"
    },
    {
     "data": {
      "image/png": "[encoded data removed]",
      "text/plain": [
       "<Figure size 432x288 with 1 Axes>"
      ]
     },
     "metadata": {},
     "output_type": "display_data"
    }
   ],
   "source": [
    "full_data['Deck'] = full_data['Cabin'].map(lambda x:x[0])\n",
    "\n",
    "sns.barplot(data=full_data,x='Deck',y='Survived')"
   ]
  },
  {
   "cell_type": "markdown",
   "metadata": {
    "papermill": {
     "duration": 0.093297,
     "end_time": "2020-10-29T13:29:17.576978",
     "exception": false,
     "start_time": "2020-10-29T13:29:17.483681",
     "status": "completed"
    },
    "tags": []
   },
   "source": [
    "The above graph shows that if the passenger has a deck letter of E, D, or B, the chance to survive is higher. On the other hand, if the passenger has a deck letter of U, the chance is pretty low."
   ]
  },
  {
   "cell_type": "markdown",
   "metadata": {
    "papermill": {
     "duration": 0.094271,
     "end_time": "2020-10-29T13:29:17.763546",
     "exception": false,
     "start_time": "2020-10-29T13:29:17.669275",
     "status": "completed"
    },
    "tags": []
   },
   "source": [
    "2.4 Ticket Group:\n",
    "\n",
    "Passengers with the same ticket number may belong to the same group, so we can also create a new column of TickGroup to classify passengers. "
   ]
  },
  {
   "cell_type": "code",
   "execution_count": 34,
   "metadata": {
    "execution": {
     "iopub.execute_input": "2020-10-29T13:29:17.957482Z",
     "iopub.status.busy": "2020-10-29T13:29:17.956331Z",
     "iopub.status.idle": "2020-10-29T13:29:17.964435Z",
     "shell.execute_reply": "2020-10-29T13:29:17.963714Z"
    },
    "papermill": {
     "duration": 0.106597,
     "end_time": "2020-10-29T13:29:17.964582",
     "exception": false,
     "start_time": "2020-10-29T13:29:17.857985",
     "status": "completed"
    },
    "tags": []
   },
   "outputs": [
    {
     "data": {
      "text/plain": [
       "CA. 2343    11\n",
       "CA 2144      8\n",
       "1601         8\n",
       "3101295      7\n",
       "347077       7\n",
       "Name: Ticket, dtype: int64"
      ]
     },
     "execution_count": 34,
     "metadata": {},
     "output_type": "execute_result"
    }
   ],
   "source": [
    "TickCountDict = {}\n",
    "TickCountDict = full_data['Ticket'].value_counts()\n",
    "TickCountDict.head()"
   ]
  },
  {
   "cell_type": "code",
   "execution_count": 35,
   "metadata": {
    "execution": {
     "iopub.execute_input": "2020-10-29T13:29:18.160768Z",
     "iopub.status.busy": "2020-10-29T13:29:18.159844Z",
     "iopub.status.idle": "2020-10-29T13:29:18.164320Z",
     "shell.execute_reply": "2020-10-29T13:29:18.163702Z"
    },
    "papermill": {
     "duration": 0.106927,
     "end_time": "2020-10-29T13:29:18.164465",
     "exception": false,
     "start_time": "2020-10-29T13:29:18.057538",
     "status": "completed"
    },
    "tags": []
   },
   "outputs": [
    {
     "data": {
      "text/plain": [
       "0    1\n",
       "1    2\n",
       "2    1\n",
       "3    2\n",
       "4    1\n",
       "Name: TickGroup, dtype: int64"
      ]
     },
     "execution_count": 35,
     "metadata": {},
     "output_type": "execute_result"
    }
   ],
   "source": [
    "full_data['TickGroup'] = full_data['Ticket'].map(TickCountDict)\n",
    "full_data['TickGroup'].head()"
   ]
  },
  {
   "cell_type": "code",
   "execution_count": 36,
   "metadata": {
    "execution": {
     "iopub.execute_input": "2020-10-29T13:29:18.357762Z",
     "iopub.status.busy": "2020-10-29T13:29:18.356937Z",
     "iopub.status.idle": "2020-10-29T13:29:19.022277Z",
     "shell.execute_reply": "2020-10-29T13:29:19.021260Z"
    },
    "papermill": {
     "duration": 0.764509,
     "end_time": "2020-10-29T13:29:19.022477",
     "exception": false,
     "start_time": "2020-10-29T13:29:18.257968",
     "status": "completed"
    },
    "tags": []
   },
   "outputs": [
    {
     "data": {
      "text/plain": [
       "<matplotlib.axes._subplots.AxesSubplot at 0x7fb6856cfb90>"
      ]
     },
     "execution_count": 36,
     "metadata": {},
     "output_type": "execute_result"
    },
    {
     "data": {
      "image/png": "[encoded data removed]",
      "text/plain": [
       "<Figure size 432x288 with 1 Axes>"
      ]
     },
     "metadata": {},
     "output_type": "display_data"
    }
   ],
   "source": [
    "sns.barplot(data=full_data,x='TickGroup',y='Survived')"
   ]
  },
  {
   "cell_type": "markdown",
   "metadata": {
    "papermill": {
     "duration": 0.09862,
     "end_time": "2020-10-29T13:29:19.219120",
     "exception": false,
     "start_time": "2020-10-29T13:29:19.120500",
     "status": "completed"
    },
    "tags": []
   },
   "source": [
    "This shows that when the group size is about average, the chance to survive is higher, which also follows our previous conclusions. We can further applied the stragety for family size and cluster these groups again."
   ]
  },
  {
   "cell_type": "code",
   "execution_count": 37,
   "metadata": {
    "execution": {
     "iopub.execute_input": "2020-10-29T13:29:19.422375Z",
     "iopub.status.busy": "2020-10-29T13:29:19.421245Z",
     "iopub.status.idle": "2020-10-29T13:29:19.695021Z",
     "shell.execute_reply": "2020-10-29T13:29:19.694323Z"
    },
    "papermill": {
     "duration": 0.381444,
     "end_time": "2020-10-29T13:29:19.695156",
     "exception": false,
     "start_time": "2020-10-29T13:29:19.313712",
     "status": "completed"
    },
    "tags": []
   },
   "outputs": [
    {
     "data": {
      "text/plain": [
       "<matplotlib.axes._subplots.AxesSubplot at 0x7fb68579a950>"
      ]
     },
     "execution_count": 37,
     "metadata": {},
     "output_type": "execute_result"
    },
    {
     "data": {
      "image/png": "[encoded data removed]",
      "text/plain": [
       "<Figure size 432x288 with 1 Axes>"
      ]
     },
     "metadata": {},
     "output_type": "display_data"
    }
   ],
   "source": [
    "def TickCountGroup(num):\n",
    "    if (num>=2) & (num<=4):\n",
    "        return 1\n",
    "    elif (num==1)|((num>=5)&(num<=8)):\n",
    "        return 0\n",
    "    else :\n",
    "        return 2\n",
    "\n",
    "full_data['TickCate']=full_data['TickGroup'].map(TickCountGroup)\n",
    "\n",
    "sns.barplot(data=full_data,x='TickCate',y='Survived')"
   ]
  },
  {
   "cell_type": "markdown",
   "metadata": {
    "papermill": {
     "duration": 0.095455,
     "end_time": "2020-10-29T13:29:19.887366",
     "exception": false,
     "start_time": "2020-10-29T13:29:19.791911",
     "status": "completed"
    },
    "tags": []
   },
   "source": [
    "2.5 Fill missing values for Age column:\n",
    "\n",
    "We can in fact use a regressor to predict the missing age values from other features. To do this, we will first check the correlations between Age and other parameters"
   ]
  },
  {
   "cell_type": "code",
   "execution_count": 38,
   "metadata": {
    "execution": {
     "iopub.execute_input": "2020-10-29T13:29:20.092620Z",
     "iopub.status.busy": "2020-10-29T13:29:20.091832Z",
     "iopub.status.idle": "2020-10-29T13:29:20.115038Z",
     "shell.execute_reply": "2020-10-29T13:29:20.114333Z"
    },
    "papermill": {
     "duration": 0.130825,
     "end_time": "2020-10-29T13:29:20.115171",
     "exception": false,
     "start_time": "2020-10-29T13:29:19.984346",
     "status": "completed"
    },
    "tags": []
   },
   "outputs": [
    {
     "data": {
      "text/plain": [
       "Pclass          -0.408106\n",
       "Title_Master    -0.385380\n",
       "Title_Miss      -0.282977\n",
       "SibSp           -0.243699\n",
       "TickGroup       -0.185284\n",
       "familySize      -0.174901\n",
       "Parch           -0.150917\n",
       "Title_Royalty    0.057337\n",
       "Title_Officer    0.166771\n",
       "Title_Mr         0.183965\n",
       "Title_Mrs        0.215091\n",
       "Age              1.000000\n",
       "Name: Age, dtype: float64"
      ]
     },
     "execution_count": 38,
     "metadata": {},
     "output_type": "execute_result"
    }
   ],
   "source": [
    "AgePre = full_data[['Age','Parch','Pclass','SibSp','Title','familySize','TickGroup']]\n",
    "\n",
    "AgePre = pd.get_dummies(AgePre)\n",
    "ParAge = pd.get_dummies(AgePre['Parch'],prefix='Parch')\n",
    "SibAge = pd.get_dummies(AgePre['SibSp'],prefix='SibSp')\n",
    "PclAge = pd.get_dummies(AgePre['Pclass'],prefix='Pclass')\n",
    "\n",
    "AgeCorrDf = pd.DataFrame()\n",
    "AgeCorrDf = AgePre.corr()\n",
    "AgeCorrDf['Age'].sort_values()"
   ]
  },
  {
   "cell_type": "code",
   "execution_count": 39,
   "metadata": {
    "execution": {
     "iopub.execute_input": "2020-10-29T13:29:20.334899Z",
     "iopub.status.busy": "2020-10-29T13:29:20.316232Z",
     "iopub.status.idle": "2020-10-29T13:29:20.341522Z",
     "shell.execute_reply": "2020-10-29T13:29:20.340894Z"
    },
    "papermill": {
     "duration": 0.128891,
     "end_time": "2020-10-29T13:29:20.341652",
     "exception": false,
     "start_time": "2020-10-29T13:29:20.212761",
     "status": "completed"
    },
    "tags": []
   },
   "outputs": [
    {
     "data": {
      "text/html": [
       "<div>\n",
       "<style scoped>\n",
       "    .dataframe tbody tr th:only-of-type {\n",
       "        vertical-align: middle;\n",
       "    }\n",
       "\n",
       "    .dataframe tbody tr th {\n",
       "        vertical-align: top;\n",
       "    }\n",
       "\n",
       "    .dataframe thead th {\n",
       "        text-align: right;\n",
       "    }\n",
       "</style>\n",
       "<table border=\"1\" class=\"dataframe\">\n",
       "  <thead>\n",
       "    <tr style=\"text-align: right;\">\n",
       "      <th></th>\n",
       "      <th>Age</th>\n",
       "      <th>Parch</th>\n",
       "      <th>Pclass</th>\n",
       "      <th>SibSp</th>\n",
       "      <th>familySize</th>\n",
       "      <th>TickGroup</th>\n",
       "      <th>Title_Master</th>\n",
       "      <th>Title_Miss</th>\n",
       "      <th>Title_Mr</th>\n",
       "      <th>Title_Mrs</th>\n",
       "      <th>...</th>\n",
       "      <th>SibSp_0</th>\n",
       "      <th>SibSp_1</th>\n",
       "      <th>SibSp_2</th>\n",
       "      <th>SibSp_3</th>\n",
       "      <th>SibSp_4</th>\n",
       "      <th>SibSp_5</th>\n",
       "      <th>SibSp_8</th>\n",
       "      <th>Pclass_1</th>\n",
       "      <th>Pclass_2</th>\n",
       "      <th>Pclass_3</th>\n",
       "    </tr>\n",
       "  </thead>\n",
       "  <tbody>\n",
       "    <tr>\n",
       "      <th>0</th>\n",
       "      <td>22.0</td>\n",
       "      <td>0</td>\n",
       "      <td>3</td>\n",
       "      <td>1</td>\n",
       "      <td>1</td>\n",
       "      <td>1</td>\n",
       "      <td>0</td>\n",
       "      <td>0</td>\n",
       "      <td>1</td>\n",
       "      <td>0</td>\n",
       "      <td>...</td>\n",
       "      <td>0</td>\n",
       "      <td>1</td>\n",
       "      <td>0</td>\n",
       "      <td>0</td>\n",
       "      <td>0</td>\n",
       "      <td>0</td>\n",
       "      <td>0</td>\n",
       "      <td>0</td>\n",
       "      <td>0</td>\n",
       "      <td>1</td>\n",
       "    </tr>\n",
       "    <tr>\n",
       "      <th>1</th>\n",
       "      <td>38.0</td>\n",
       "      <td>0</td>\n",
       "      <td>1</td>\n",
       "      <td>1</td>\n",
       "      <td>1</td>\n",
       "      <td>2</td>\n",
       "      <td>0</td>\n",
       "      <td>0</td>\n",
       "      <td>0</td>\n",
       "      <td>1</td>\n",
       "      <td>...</td>\n",
       "      <td>0</td>\n",
       "      <td>1</td>\n",
       "      <td>0</td>\n",
       "      <td>0</td>\n",
       "      <td>0</td>\n",
       "      <td>0</td>\n",
       "      <td>0</td>\n",
       "      <td>1</td>\n",
       "      <td>0</td>\n",
       "      <td>0</td>\n",
       "    </tr>\n",
       "    <tr>\n",
       "      <th>2</th>\n",
       "      <td>26.0</td>\n",
       "      <td>0</td>\n",
       "      <td>3</td>\n",
       "      <td>0</td>\n",
       "      <td>0</td>\n",
       "      <td>1</td>\n",
       "      <td>0</td>\n",
       "      <td>1</td>\n",
       "      <td>0</td>\n",
       "      <td>0</td>\n",
       "      <td>...</td>\n",
       "      <td>1</td>\n",
       "      <td>0</td>\n",
       "      <td>0</td>\n",
       "      <td>0</td>\n",
       "      <td>0</td>\n",
       "      <td>0</td>\n",
       "      <td>0</td>\n",
       "      <td>0</td>\n",
       "      <td>0</td>\n",
       "      <td>1</td>\n",
       "    </tr>\n",
       "    <tr>\n",
       "      <th>3</th>\n",
       "      <td>35.0</td>\n",
       "      <td>0</td>\n",
       "      <td>1</td>\n",
       "      <td>1</td>\n",
       "      <td>1</td>\n",
       "      <td>2</td>\n",
       "      <td>0</td>\n",
       "      <td>0</td>\n",
       "      <td>0</td>\n",
       "      <td>1</td>\n",
       "      <td>...</td>\n",
       "      <td>0</td>\n",
       "      <td>1</td>\n",
       "      <td>0</td>\n",
       "      <td>0</td>\n",
       "      <td>0</td>\n",
       "      <td>0</td>\n",
       "      <td>0</td>\n",
       "      <td>1</td>\n",
       "      <td>0</td>\n",
       "      <td>0</td>\n",
       "    </tr>\n",
       "    <tr>\n",
       "      <th>4</th>\n",
       "      <td>35.0</td>\n",
       "      <td>0</td>\n",
       "      <td>3</td>\n",
       "      <td>0</td>\n",
       "      <td>0</td>\n",
       "      <td>1</td>\n",
       "      <td>0</td>\n",
       "      <td>0</td>\n",
       "      <td>1</td>\n",
       "      <td>0</td>\n",
       "      <td>...</td>\n",
       "      <td>1</td>\n",
       "      <td>0</td>\n",
       "      <td>0</td>\n",
       "      <td>0</td>\n",
       "      <td>0</td>\n",
       "      <td>0</td>\n",
       "      <td>0</td>\n",
       "      <td>0</td>\n",
       "      <td>0</td>\n",
       "      <td>1</td>\n",
       "    </tr>\n",
       "  </tbody>\n",
       "</table>\n",
       "<p>5 rows × 30 columns</p>\n",
       "</div>"
      ],
      "text/plain": [
       "    Age  Parch  Pclass  SibSp  familySize  TickGroup  Title_Master  \\\n",
       "0  22.0      0       3      1           1          1             0   \n",
       "1  38.0      0       1      1           1          2             0   \n",
       "2  26.0      0       3      0           0          1             0   \n",
       "3  35.0      0       1      1           1          2             0   \n",
       "4  35.0      0       3      0           0          1             0   \n",
       "\n",
       "   Title_Miss  Title_Mr  Title_Mrs  ...  SibSp_0  SibSp_1  SibSp_2  SibSp_3  \\\n",
       "0           0         1          0  ...        0        1        0        0   \n",
       "1           0         0          1  ...        0        1        0        0   \n",
       "2           1         0          0  ...        1        0        0        0   \n",
       "3           0         0          1  ...        0        1        0        0   \n",
       "4           0         1          0  ...        1        0        0        0   \n",
       "\n",
       "   SibSp_4  SibSp_5  SibSp_8  Pclass_1  Pclass_2  Pclass_3  \n",
       "0        0        0        0         0         0         1  \n",
       "1        0        0        0         1         0         0  \n",
       "2        0        0        0         0         0         1  \n",
       "3        0        0        0         1         0         0  \n",
       "4        0        0        0         0         0         1  \n",
       "\n",
       "[5 rows x 30 columns]"
      ]
     },
     "execution_count": 39,
     "metadata": {},
     "output_type": "execute_result"
    }
   ],
   "source": [
    "AgePre = pd.concat([AgePre,ParAge,SibAge,PclAge],axis=1)\n",
    "AgePre.head()"
   ]
  },
  {
   "cell_type": "code",
   "execution_count": 40,
   "metadata": {
    "execution": {
     "iopub.execute_input": "2020-10-29T13:29:20.545771Z",
     "iopub.status.busy": "2020-10-29T13:29:20.544970Z",
     "iopub.status.idle": "2020-10-29T13:29:20.551839Z",
     "shell.execute_reply": "2020-10-29T13:29:20.551182Z"
    },
    "papermill": {
     "duration": 0.112297,
     "end_time": "2020-10-29T13:29:20.551987",
     "exception": false,
     "start_time": "2020-10-29T13:29:20.439690",
     "status": "completed"
    },
    "tags": []
   },
   "outputs": [],
   "source": [
    "Age_train = AgePre[AgePre['Age'].notnull()]\n",
    "Age_test = AgePre[AgePre['Age'].isnull()]\n",
    "\n",
    "AgeKnown_X = Age_train.drop(['Age'],axis=1)\n",
    "AgeKnown_Y = Age_train['Age']"
   ]
  },
  {
   "cell_type": "code",
   "execution_count": 41,
   "metadata": {
    "execution": {
     "iopub.execute_input": "2020-10-29T13:29:20.754796Z",
     "iopub.status.busy": "2020-10-29T13:29:20.753685Z",
     "iopub.status.idle": "2020-10-29T13:29:20.757100Z",
     "shell.execute_reply": "2020-10-29T13:29:20.756440Z"
    },
    "papermill": {
     "duration": 0.10685,
     "end_time": "2020-10-29T13:29:20.757233",
     "exception": false,
     "start_time": "2020-10-29T13:29:20.650383",
     "status": "completed"
    },
    "tags": []
   },
   "outputs": [],
   "source": [
    "Age_X_test = Age_test.drop(['Age'],axis=1)"
   ]
  },
  {
   "cell_type": "code",
   "execution_count": 42,
   "metadata": {
    "execution": {
     "iopub.execute_input": "2020-10-29T13:29:20.960402Z",
     "iopub.status.busy": "2020-10-29T13:29:20.959624Z",
     "iopub.status.idle": "2020-10-29T13:29:23.199588Z",
     "shell.execute_reply": "2020-10-29T13:29:23.198837Z"
    },
    "papermill": {
     "duration": 2.344592,
     "end_time": "2020-10-29T13:29:23.199731",
     "exception": false,
     "start_time": "2020-10-29T13:29:20.855139",
     "status": "completed"
    },
    "tags": []
   },
   "outputs": [
    {
     "name": "stdout",
     "output_type": "stream",
     "text": [
      "0.5874634351980828\n"
     ]
    }
   ],
   "source": [
    "from sklearn.ensemble import RandomForestRegressor\n",
    "\n",
    "rfr=RandomForestRegressor(random_state=None,n_estimators=500,n_jobs=-1)\n",
    "rfr.fit(AgeKnown_X,AgeKnown_Y)\n",
    "\n",
    "print(rfr.score(AgeKnown_X,AgeKnown_Y))"
   ]
  },
  {
   "cell_type": "code",
   "execution_count": 43,
   "metadata": {
    "execution": {
     "iopub.execute_input": "2020-10-29T13:29:23.407153Z",
     "iopub.status.busy": "2020-10-29T13:29:23.406203Z",
     "iopub.status.idle": "2020-10-29T13:29:23.625707Z",
     "shell.execute_reply": "2020-10-29T13:29:23.624988Z"
    },
    "papermill": {
     "duration": 0.326549,
     "end_time": "2020-10-29T13:29:23.625843",
     "exception": false,
     "start_time": "2020-10-29T13:29:23.299294",
     "status": "completed"
    },
    "tags": []
   },
   "outputs": [
    {
     "name": "stdout",
     "output_type": "stream",
     "text": [
      "<class 'pandas.core.frame.DataFrame'>\n",
      "RangeIndex: 1309 entries, 0 to 1308\n",
      "Data columns (total 18 columns):\n",
      " #   Column       Non-Null Count  Dtype  \n",
      "---  ------       --------------  -----  \n",
      " 0   PassengerId  1309 non-null   int64  \n",
      " 1   Survived     891 non-null    float64\n",
      " 2   Pclass       1309 non-null   int64  \n",
      " 3   Name         1309 non-null   object \n",
      " 4   Sex          1309 non-null   object \n",
      " 5   Age          1309 non-null   float64\n",
      " 6   SibSp        1309 non-null   int64  \n",
      " 7   Parch        1309 non-null   int64  \n",
      " 8   Ticket       1309 non-null   object \n",
      " 9   Fare         1309 non-null   float64\n",
      " 10  Cabin        1309 non-null   object \n",
      " 11  Embarked     1309 non-null   object \n",
      " 12  Title        1309 non-null   object \n",
      " 13  Family       1309 non-null   int64  \n",
      " 14  familySize   1309 non-null   int64  \n",
      " 15  Deck         1309 non-null   object \n",
      " 16  TickGroup    1309 non-null   int64  \n",
      " 17  TickCate     1309 non-null   int64  \n",
      "dtypes: float64(3), int64(8), object(7)\n",
      "memory usage: 184.2+ KB\n"
     ]
    }
   ],
   "source": [
    "AgeUnKnown_Y = rfr.predict(Age_X_test)\n",
    "\n",
    "full_data.loc[full_data['Age'].isnull(),['Age']] = AgeUnKnown_Y\n",
    "full_data.info()"
   ]
  },
  {
   "cell_type": "markdown",
   "metadata": {
    "papermill": {
     "duration": 0.099987,
     "end_time": "2020-10-29T13:29:23.828710",
     "exception": false,
     "start_time": "2020-10-29T13:29:23.728723",
     "status": "completed"
    },
    "tags": []
   },
   "source": [
    "3. Feature Selection\n",
    "\n",
    "In this dataset the dimension of data is too high. We want to select only the features that are highly correlated with the Survived column in order to reduce the dimension of our model. "
   ]
  },
  {
   "cell_type": "code",
   "execution_count": 44,
   "metadata": {
    "execution": {
     "iopub.execute_input": "2020-10-29T13:29:24.037333Z",
     "iopub.status.busy": "2020-10-29T13:29:24.036372Z",
     "iopub.status.idle": "2020-10-29T13:29:24.046508Z",
     "shell.execute_reply": "2020-10-29T13:29:24.045749Z"
    },
    "papermill": {
     "duration": 0.118961,
     "end_time": "2020-10-29T13:29:24.046631",
     "exception": false,
     "start_time": "2020-10-29T13:29:23.927670",
     "status": "completed"
    },
    "tags": []
   },
   "outputs": [
    {
     "data": {
      "text/plain": [
       "Pclass       -0.338481\n",
       "Age          -0.059277\n",
       "SibSp        -0.035322\n",
       "Family        0.016639\n",
       "TickGroup     0.064962\n",
       "Parch         0.081629\n",
       "familySize    0.108631\n",
       "TickCate      0.278282\n",
       "Fare          0.331805\n",
       "Survived      1.000000\n",
       "Name: Survived, dtype: float64"
      ]
     },
     "execution_count": 44,
     "metadata": {},
     "output_type": "execute_result"
    }
   ],
   "source": [
    "fullSel = full_data.drop(['Cabin','Name','Ticket','PassengerId'],axis=1)\n",
    "\n",
    "corrDf = pd.DataFrame()\n",
    "corrDf = fullSel.corr()\n",
    "corrDf['Survived'].sort_values(ascending=True)"
   ]
  },
  {
   "cell_type": "code",
   "execution_count": 45,
   "metadata": {
    "execution": {
     "iopub.execute_input": "2020-10-29T13:29:24.263909Z",
     "iopub.status.busy": "2020-10-29T13:29:24.262770Z",
     "iopub.status.idle": "2020-10-29T13:29:24.973549Z",
     "shell.execute_reply": "2020-10-29T13:29:24.974194Z"
    },
    "papermill": {
     "duration": 0.824983,
     "end_time": "2020-10-29T13:29:24.974353",
     "exception": false,
     "start_time": "2020-10-29T13:29:24.149370",
     "status": "completed"
    },
    "tags": []
   },
   "outputs": [
    {
     "data": {
      "text/plain": [
       "(array([0.5, 1.5, 2.5, 3.5, 4.5, 5.5, 6.5, 7.5, 8.5, 9.5]),\n",
       " <a list of 10 Text major ticklabel objects>)"
      ]
     },
     "execution_count": 45,
     "metadata": {},
     "output_type": "execute_result"
    },
    {
     "data": {
      "image/png": "[encoded data removed]",
      "text/plain": [
       "<Figure size 576x576 with 2 Axes>"
      ]
     },
     "metadata": {},
     "output_type": "display_data"
    }
   ],
   "source": [
    "plt.figure(figsize=(8,8))\n",
    "sns.heatmap(fullSel[['Survived','Age','Embarked','Fare','Parch','Pclass',\n",
    "                    'Sex','SibSp','Title','Family','familySize','Deck',\n",
    "                     'TickGroup','TickCate']].corr(),cmap='BrBG',annot=True,\n",
    "           linewidths=.5)\n",
    "plt.xticks(rotation=45)"
   ]
  },
  {
   "cell_type": "code",
   "execution_count": 46,
   "metadata": {
    "execution": {
     "iopub.execute_input": "2020-10-29T13:29:25.194653Z",
     "iopub.status.busy": "2020-10-29T13:29:25.193846Z",
     "iopub.status.idle": "2020-10-29T13:29:25.212503Z",
     "shell.execute_reply": "2020-10-29T13:29:25.211805Z"
    },
    "papermill": {
     "duration": 0.131337,
     "end_time": "2020-10-29T13:29:25.212634",
     "exception": false,
     "start_time": "2020-10-29T13:29:25.081297",
     "status": "completed"
    },
    "tags": []
   },
   "outputs": [],
   "source": [
    "fullSel = fullSel.drop(['Family','SibSp','TickGroup','Parch'],axis=1)\n",
    "\n",
    "fullSel = pd.get_dummies(fullSel)\n",
    "PclassDf = pd.get_dummies(full_data['Pclass'],prefix='Pclass')\n",
    "TickGroupDf = pd.get_dummies(full_data['TickGroup'],prefix='TickGroup')\n",
    "familySizeDf = pd.get_dummies(full_data['familySize'],prefix='familySize')\n",
    "\n",
    "fullSel=pd.concat([fullSel,PclassDf,TickGroupDf,familySizeDf],axis=1)"
   ]
  },
  {
   "cell_type": "code",
   "execution_count": 47,
   "metadata": {
    "execution": {
     "iopub.execute_input": "2020-10-29T13:29:25.432398Z",
     "iopub.status.busy": "2020-10-29T13:29:25.428734Z",
     "iopub.status.idle": "2020-10-29T13:29:28.600646Z",
     "shell.execute_reply": "2020-10-29T13:29:28.599531Z"
    },
    "papermill": {
     "duration": 3.283994,
     "end_time": "2020-10-29T13:29:28.600783",
     "exception": false,
     "start_time": "2020-10-29T13:29:25.316789",
     "status": "completed"
    },
    "tags": []
   },
   "outputs": [
    {
     "name": "stdout",
     "output_type": "stream",
     "text": [
      "Fitting 10 folds for each of 6 candidates, totalling 60 fits\n"
     ]
    },
    {
     "name": "stderr",
     "output_type": "stream",
     "text": [
      "[Parallel(n_jobs=-1)]: Using backend LokyBackend with 4 concurrent workers.\n",
      "[Parallel(n_jobs=-1)]: Done  50 tasks      | elapsed:    2.9s\n",
      "[Parallel(n_jobs=-1)]: Done  60 out of  60 | elapsed:    3.1s finished\n",
      "/opt/conda/lib/python3.7/site-packages/sklearn/linear_model/_logistic.py:764: ConvergenceWarning: lbfgs failed to converge (status=1):\n",
      "STOP: TOTAL NO. of ITERATIONS REACHED LIMIT.\n",
      "\n",
      "Increase the number of iterations (max_iter) or scale the data as shown in:\n",
      "    https://scikit-learn.org/stable/modules/preprocessing.html\n",
      "Please also refer to the documentation for alternative solver options:\n",
      "    https://scikit-learn.org/stable/modules/linear_model.html#logistic-regression\n",
      "  extra_warning_msg=_LOGISTIC_SOLVER_CONVERGENCE_MSG)\n"
     ]
    },
    {
     "data": {
      "text/plain": [
       "GridSearchCV(cv=StratifiedKFold(n_splits=10, random_state=None, shuffle=False),\n",
       "             estimator=LogisticRegression(), n_jobs=-1,\n",
       "             param_grid={'C': [1, 2, 3], 'penalty': ['l1', 'l2']},\n",
       "             scoring='accuracy', verbose=1)"
      ]
     },
     "execution_count": 47,
     "metadata": {},
     "output_type": "execute_result"
    }
   ],
   "source": [
    "from sklearn.ensemble import RandomForestClassifier,AdaBoostClassifier,GradientBoostingClassifier,ExtraTreesClassifier\n",
    "from sklearn.discriminant_analysis import LinearDiscriminantAnalysis\n",
    "from sklearn.linear_model import LogisticRegression\n",
    "from sklearn.neighbors import KNeighborsClassifier\n",
    "from sklearn.tree import DecisionTreeClassifier\n",
    "from sklearn.svm import SVC\n",
    "from sklearn.model_selection import GridSearchCV,cross_val_score,StratifiedKFold\n",
    "\n",
    "kfold = StratifiedKFold(n_splits=10)\n",
    "\n",
    "experData = fullSel[fullSel['Survived'].notnull()]\n",
    "preData = fullSel[fullSel['Survived'].isnull()]\n",
    "\n",
    "experData_X = experData.drop('Survived',axis=1)\n",
    "experData_y = experData['Survived']\n",
    "preData_X = preData.drop('Survived',axis=1)\n",
    "\n",
    "modelLR = LogisticRegression()\n",
    "LR_param_grid = {'C' : [1,2,3],\n",
    "                'penalty':['l1','l2']}\n",
    "modelgsLR = GridSearchCV(modelLR,param_grid = LR_param_grid, cv=kfold, \n",
    "                                     scoring=\"accuracy\", n_jobs= -1, verbose = 1)\n",
    "modelgsLR.fit(experData_X,experData_y)"
   ]
  },
  {
   "cell_type": "code",
   "execution_count": 48,
   "metadata": {
    "execution": {
     "iopub.execute_input": "2020-10-29T13:29:28.821735Z",
     "iopub.status.busy": "2020-10-29T13:29:28.820774Z",
     "iopub.status.idle": "2020-10-29T13:29:28.824929Z",
     "shell.execute_reply": "2020-10-29T13:29:28.824287Z"
    },
    "papermill": {
     "duration": 0.117555,
     "end_time": "2020-10-29T13:29:28.825056",
     "exception": false,
     "start_time": "2020-10-29T13:29:28.707501",
     "status": "completed"
    },
    "tags": []
   },
   "outputs": [
    {
     "name": "stdout",
     "output_type": "stream",
     "text": [
      "Accuracy:  0.8328089887640451\n"
     ]
    }
   ],
   "source": [
    "print(\"Accuracy: \", modelgsLR.best_score_)"
   ]
  },
  {
   "cell_type": "code",
   "execution_count": 49,
   "metadata": {
    "execution": {
     "iopub.execute_input": "2020-10-29T13:29:29.054816Z",
     "iopub.status.busy": "2020-10-29T13:29:29.053977Z",
     "iopub.status.idle": "2020-10-29T13:30:19.296228Z",
     "shell.execute_reply": "2020-10-29T13:30:19.296904Z"
    },
    "papermill": {
     "duration": 50.364988,
     "end_time": "2020-10-29T13:30:19.297071",
     "exception": false,
     "start_time": "2020-10-29T13:29:28.932083",
     "status": "completed"
    },
    "tags": []
   },
   "outputs": [
    {
     "name": "stdout",
     "output_type": "stream",
     "text": [
      "Fitting 10 folds for each of 72 candidates, totalling 720 fits\n"
     ]
    },
    {
     "name": "stderr",
     "output_type": "stream",
     "text": [
      "[Parallel(n_jobs=-1)]: Using backend LokyBackend with 4 concurrent workers.\n",
      "[Parallel(n_jobs=-1)]: Done  42 tasks      | elapsed:    3.1s\n",
      "[Parallel(n_jobs=-1)]: Done 192 tasks      | elapsed:   13.8s\n",
      "[Parallel(n_jobs=-1)]: Done 442 tasks      | elapsed:   31.3s\n",
      "[Parallel(n_jobs=-1)]: Done 720 out of 720 | elapsed:   49.9s finished\n"
     ]
    },
    {
     "data": {
      "text/plain": [
       "GridSearchCV(cv=StratifiedKFold(n_splits=10, random_state=None, shuffle=False),\n",
       "             estimator=GradientBoostingClassifier(), n_jobs=-1,\n",
       "             param_grid={'learning_rate': [0.1, 0.05, 0.01],\n",
       "                         'loss': ['deviance'], 'max_depth': [4, 8],\n",
       "                         'max_features': [0.3, 0.1],\n",
       "                         'min_samples_leaf': [100, 150],\n",
       "                         'n_estimators': [100, 200, 300]},\n",
       "             scoring='accuracy', verbose=1)"
      ]
     },
     "execution_count": 49,
     "metadata": {},
     "output_type": "execute_result"
    }
   ],
   "source": [
    "GBC = GradientBoostingClassifier()\n",
    "gb_param_grid = {'loss' : [\"deviance\"],\n",
    "              'n_estimators' : [100,200,300],\n",
    "              'learning_rate': [0.1, 0.05, 0.01],\n",
    "              'max_depth': [4, 8],\n",
    "              'min_samples_leaf': [100,150],\n",
    "              'max_features': [0.3, 0.1] \n",
    "              }\n",
    "modelgsGBC = GridSearchCV(GBC,param_grid = gb_param_grid, cv=kfold, \n",
    "                                     scoring=\"accuracy\", n_jobs= -1, verbose = 1)\n",
    "modelgsGBC.fit(experData_X,experData_y)"
   ]
  },
  {
   "cell_type": "code",
   "execution_count": 50,
   "metadata": {
    "execution": {
     "iopub.execute_input": "2020-10-29T13:30:19.522988Z",
     "iopub.status.busy": "2020-10-29T13:30:19.521848Z",
     "iopub.status.idle": "2020-10-29T13:30:19.525886Z",
     "shell.execute_reply": "2020-10-29T13:30:19.526915Z"
    },
    "papermill": {
     "duration": 0.11965,
     "end_time": "2020-10-29T13:30:19.527086",
     "exception": false,
     "start_time": "2020-10-29T13:30:19.407436",
     "status": "completed"
    },
    "tags": []
   },
   "outputs": [
    {
     "name": "stdout",
     "output_type": "stream",
     "text": [
      "Accuracy:  0.8384019975031209\n"
     ]
    }
   ],
   "source": [
    "print('Accuracy: ', modelgsGBC.best_score_)"
   ]
  },
  {
   "cell_type": "code",
   "execution_count": 51,
   "metadata": {
    "execution": {
     "iopub.execute_input": "2020-10-29T13:30:19.757648Z",
     "iopub.status.busy": "2020-10-29T13:30:19.756804Z",
     "iopub.status.idle": "2020-10-29T13:30:20.086651Z",
     "shell.execute_reply": "2020-10-29T13:30:20.085859Z"
    },
    "papermill": {
     "duration": 0.448606,
     "end_time": "2020-10-29T13:30:20.086781",
     "exception": false,
     "start_time": "2020-10-29T13:30:19.638175",
     "status": "completed"
    },
    "tags": []
   },
   "outputs": [],
   "source": [
    "GBCpreData_y=modelgsGBC.predict(preData_X)\n",
    "GBCpreData_y=GBCpreData_y.astype(int)\n",
    "\n",
    "GBCpreResultDf=pd.DataFrame()\n",
    "GBCpreResultDf['PassengerId']=full_data['PassengerId'][full_data['Survived'].isnull()]\n",
    "GBCpreResultDf['Survived']=GBCpreData_y\n",
    "GBCpreResultDf\n",
    "\n",
    "GBCpreResultDf.to_csv('submission.csv',index=False)"
   ]
  }
 ],
 "metadata": {
  "kernelspec": {
   "display_name": "Python 3",
   "language": "python",
   "name": "python3"
  },
  "language_info": {
   "codemirror_mode": {
    "name": "ipython",
    "version": 3
   },
   "file_extension": ".py",
   "mimetype": "text/x-python",
   "name": "python",
   "nbconvert_exporter": "python",
   "pygments_lexer": "ipython3",
   "version": "3.7.6"
  },
  "papermill": {
   "duration": 85.837142,
   "end_time": "2020-10-29T13:30:20.319175",
   "environment_variables": {},
   "exception": null,
   "input_path": "__notebook__.ipynb",
   "output_path": "__notebook__.ipynb",
   "parameters": {},
   "start_time": "2020-10-29T13:28:54.482033",
   "version": "2.1.0"
  }
 },
 "nbformat": 4,
 "nbformat_minor": 4
}
